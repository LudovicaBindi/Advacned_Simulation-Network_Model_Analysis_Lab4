{
 "cells": [
  {
   "cell_type": "code",
   "execution_count": 1,
   "metadata": {},
   "outputs": [],
   "source": [
    "# ignore the warnings\n",
    "import os\n",
    "import sys\n",
    "module_path = os.path.abspath(os.path.join('..'))\n",
    "if module_path not in sys.path:\n",
    "    sys.path.append(module_path)\n",
    "import warnings\n",
    "warnings.filterwarnings(\"ignore\")"
   ]
  },
  {
   "cell_type": "code",
   "execution_count": 2,
   "metadata": {},
   "outputs": [],
   "source": [
    "# import the libraries needed\n",
    "import pandas as pd\n",
    "import networkx as nx\n",
    "from model.network_creation import create_network"
   ]
  },
  {
   "cell_type": "markdown",
   "metadata": {},
   "source": [
    "# Most critical road elements according to centrality metrics"
   ]
  },
  {
   "cell_type": "markdown",
   "metadata": {},
   "source": [
    "In this notebook, we briefly find the most critical elements in Bangladesh road network from a topological point of view, by using the centrality metrics of the graph that we developed."
   ]
  },
  {
   "cell_type": "code",
   "execution_count": 3,
   "metadata": {},
   "outputs": [],
   "source": [
    "# prepare the data needed for the analysis\n",
    "source = '../data/cleaned_roads.csv'"
   ]
  },
  {
   "cell_type": "code",
   "execution_count": 4,
   "metadata": {},
   "outputs": [],
   "source": [
    "# create the network as we did in the model\n",
    "network = create_network(source_csv=source)"
   ]
  },
  {
   "cell_type": "code",
   "execution_count": 5,
   "metadata": {},
   "outputs": [],
   "source": [
    "# get the dataframe with the data\n",
    "data = pd.read_csv(source)"
   ]
  },
  {
   "cell_type": "markdown",
   "metadata": {},
   "source": [
    "Things we can analyze:\n",
    "* general stuff: clustering, centrality metrics (degree, closenesss, etc.), etc. and how it relates back to the driving situation\n",
    "    * betweenness centralities of bridges: the ones with the heighest are more critical?"
   ]
  },
  {
   "cell_type": "markdown",
   "metadata": {},
   "source": [
    "### Computing centrality metrics for the nodes"
   ]
  },
  {
   "cell_type": "markdown",
   "metadata": {},
   "source": [
    "First of all, we compute the most common centrality metrics in a network: <code>Degree</code>, <code>Closeness</code>, and <code>Betweenness</code> using the NetworkX library."
   ]
  },
  {
   "cell_type": "markdown",
   "metadata": {},
   "source": [
    "The basic description of these metrics are the following (Erath, Löchl, Axhausen, 2008):\n",
    "* <code>Degree</code>: the more adjecent nodes a node has, the more important this node is\n",
    "* <code>Closeness</code>: the closer a node is to all the other nodes, the more important the node\n",
    "* <code>Betweenness</code>: the more shortest paths run through a node, the more imporatnt this node is"
   ]
  },
  {
   "cell_type": "code",
   "execution_count": 6,
   "metadata": {},
   "outputs": [],
   "source": [
    "# create a dataframe to collect all the centrality metrics data\n",
    "centrality_metrics_df_columns = ['Node id', 'Type', 'Degree', 'Closeness', 'Betweenness']\n",
    "centrality_df = pd.DataFrame(columns=centrality_metrics_df_columns)\n",
    "# fill with the nodes id\n",
    "for node in list(network.nodes):\n",
    "    centrality_df = centrality_df.append({'Node id': node, 'Type': network.nodes[node]['type'], 'Degree': None, 'Closeness': None, 'Betweenness': None}, ignore_index=True)"
   ]
  },
  {
   "cell_type": "code",
   "execution_count": 7,
   "metadata": {},
   "outputs": [
    {
     "data": {
      "text/html": [
       "<div>\n",
       "<style scoped>\n",
       "    .dataframe tbody tr th:only-of-type {\n",
       "        vertical-align: middle;\n",
       "    }\n",
       "\n",
       "    .dataframe tbody tr th {\n",
       "        vertical-align: top;\n",
       "    }\n",
       "\n",
       "    .dataframe thead th {\n",
       "        text-align: right;\n",
       "    }\n",
       "</style>\n",
       "<table border=\"1\" class=\"dataframe\">\n",
       "  <thead>\n",
       "    <tr style=\"text-align: right;\">\n",
       "      <th></th>\n",
       "      <th>Node id</th>\n",
       "      <th>Type</th>\n",
       "      <th>Degree</th>\n",
       "      <th>Closeness</th>\n",
       "      <th>Betweenness</th>\n",
       "    </tr>\n",
       "  </thead>\n",
       "  <tbody>\n",
       "    <tr>\n",
       "      <th>0</th>\n",
       "      <td>N1_LRPS</td>\n",
       "      <td>sourcesink</td>\n",
       "      <td>None</td>\n",
       "      <td>None</td>\n",
       "      <td>None</td>\n",
       "    </tr>\n",
       "    <tr>\n",
       "      <th>1</th>\n",
       "      <td>N1_link0</td>\n",
       "      <td>link</td>\n",
       "      <td>None</td>\n",
       "      <td>None</td>\n",
       "      <td>None</td>\n",
       "    </tr>\n",
       "    <tr>\n",
       "      <th>2</th>\n",
       "      <td>N1_LRP001a</td>\n",
       "      <td>bridge-A</td>\n",
       "      <td>None</td>\n",
       "      <td>None</td>\n",
       "      <td>None</td>\n",
       "    </tr>\n",
       "    <tr>\n",
       "      <th>3</th>\n",
       "      <td>N1_link1</td>\n",
       "      <td>link</td>\n",
       "      <td>None</td>\n",
       "      <td>None</td>\n",
       "      <td>None</td>\n",
       "    </tr>\n",
       "    <tr>\n",
       "      <th>4</th>\n",
       "      <td>N1_LRP004b</td>\n",
       "      <td>bridge-A</td>\n",
       "      <td>None</td>\n",
       "      <td>None</td>\n",
       "      <td>None</td>\n",
       "    </tr>\n",
       "  </tbody>\n",
       "</table>\n",
       "</div>"
      ],
      "text/plain": [
       "      Node id        Type Degree Closeness Betweenness\n",
       "0     N1_LRPS  sourcesink   None      None        None\n",
       "1    N1_link0        link   None      None        None\n",
       "2  N1_LRP001a    bridge-A   None      None        None\n",
       "3    N1_link1        link   None      None        None\n",
       "4  N1_LRP004b    bridge-A   None      None        None"
      ]
     },
     "execution_count": 7,
     "metadata": {},
     "output_type": "execute_result"
    }
   ],
   "source": [
    "centrality_df.head()"
   ]
  },
  {
   "cell_type": "code",
   "execution_count": 8,
   "metadata": {},
   "outputs": [],
   "source": [
    "def add_metric_to_df(df, metric, res):\n",
    "    for node in res:\n",
    "        index = df.loc[df['Node id'] == node].index.tolist()[0]\n",
    "        df.at[index, metric] = res[node]"
   ]
  },
  {
   "cell_type": "code",
   "execution_count": 9,
   "metadata": {},
   "outputs": [],
   "source": [
    "# compute degree centrality\n",
    "degree = nx.degree_centrality(network)\n",
    "add_metric_to_df(centrality_df, 'Degree', degree)"
   ]
  },
  {
   "cell_type": "code",
   "execution_count": 10,
   "metadata": {},
   "outputs": [],
   "source": [
    "# compute closeness centrality\n",
    "closeness = nx.closeness_centrality(network)\n",
    "add_metric_to_df(centrality_df, 'Closeness', closeness)"
   ]
  },
  {
   "cell_type": "code",
   "execution_count": 11,
   "metadata": {},
   "outputs": [],
   "source": [
    "# compute betweenness centrality\n",
    "betweenness = nx.betweenness_centrality(network)\n",
    "add_metric_to_df(centrality_df, 'Betweenness', betweenness)"
   ]
  },
  {
   "cell_type": "code",
   "execution_count": 12,
   "metadata": {},
   "outputs": [
    {
     "data": {
      "text/html": [
       "<div>\n",
       "<style scoped>\n",
       "    .dataframe tbody tr th:only-of-type {\n",
       "        vertical-align: middle;\n",
       "    }\n",
       "\n",
       "    .dataframe tbody tr th {\n",
       "        vertical-align: top;\n",
       "    }\n",
       "\n",
       "    .dataframe thead th {\n",
       "        text-align: right;\n",
       "    }\n",
       "</style>\n",
       "<table border=\"1\" class=\"dataframe\">\n",
       "  <thead>\n",
       "    <tr style=\"text-align: right;\">\n",
       "      <th></th>\n",
       "      <th>Node id</th>\n",
       "      <th>Type</th>\n",
       "      <th>Degree</th>\n",
       "      <th>Closeness</th>\n",
       "      <th>Betweenness</th>\n",
       "    </tr>\n",
       "  </thead>\n",
       "  <tbody>\n",
       "    <tr>\n",
       "      <th>0</th>\n",
       "      <td>N1_LRPS</td>\n",
       "      <td>sourcesink</td>\n",
       "      <td>0.000517331</td>\n",
       "      <td>0.00239868</td>\n",
       "      <td>0</td>\n",
       "    </tr>\n",
       "    <tr>\n",
       "      <th>1</th>\n",
       "      <td>N1_link0</td>\n",
       "      <td>link</td>\n",
       "      <td>0.00103466</td>\n",
       "      <td>0.00240444</td>\n",
       "      <td>0.00103466</td>\n",
       "    </tr>\n",
       "    <tr>\n",
       "      <th>2</th>\n",
       "      <td>N1_LRP001a</td>\n",
       "      <td>bridge-A</td>\n",
       "      <td>0.00103466</td>\n",
       "      <td>0.00241023</td>\n",
       "      <td>0.00206825</td>\n",
       "    </tr>\n",
       "    <tr>\n",
       "      <th>3</th>\n",
       "      <td>N1_link1</td>\n",
       "      <td>link</td>\n",
       "      <td>0.00103466</td>\n",
       "      <td>0.00241604</td>\n",
       "      <td>0.00310077</td>\n",
       "    </tr>\n",
       "    <tr>\n",
       "      <th>4</th>\n",
       "      <td>N1_LRP004b</td>\n",
       "      <td>bridge-A</td>\n",
       "      <td>0.00103466</td>\n",
       "      <td>0.00242187</td>\n",
       "      <td>0.00413222</td>\n",
       "    </tr>\n",
       "  </tbody>\n",
       "</table>\n",
       "</div>"
      ],
      "text/plain": [
       "      Node id        Type       Degree   Closeness Betweenness\n",
       "0     N1_LRPS  sourcesink  0.000517331  0.00239868           0\n",
       "1    N1_link0        link   0.00103466  0.00240444  0.00103466\n",
       "2  N1_LRP001a    bridge-A   0.00103466  0.00241023  0.00206825\n",
       "3    N1_link1        link   0.00103466  0.00241604  0.00310077\n",
       "4  N1_LRP004b    bridge-A   0.00103466  0.00242187  0.00413222"
      ]
     },
     "execution_count": 12,
     "metadata": {},
     "output_type": "execute_result"
    }
   ],
   "source": [
    "centrality_df.head()"
   ]
  },
  {
   "cell_type": "code",
   "execution_count": 13,
   "metadata": {},
   "outputs": [
    {
     "data": {
      "text/plain": [
       "3"
      ]
     },
     "execution_count": 13,
     "metadata": {},
     "output_type": "execute_result"
    }
   ],
   "source": [
    "len(centrality_df['Degree'].unique())"
   ]
  },
  {
   "cell_type": "markdown",
   "metadata": {},
   "source": [
    "Given the small variation in values for the <code>Degree</code> centrality because of the topology of this smaller network we are analyzing (mainly side roads only connecting to two central roads without having also the side roads connecting with one another), we can exclude the <code>Degree</code> metric from the rest of the analysis. This result is in accordance to literature (Erath, Löchl, Axhausen, 2008)."
   ]
  },
  {
   "cell_type": "code",
   "execution_count": 14,
   "metadata": {},
   "outputs": [],
   "source": [
    "centrality_df = centrality_df.drop(columns=['Degree'])"
   ]
  },
  {
   "cell_type": "markdown",
   "metadata": {},
   "source": [
    "### Analyzing the centrality metrics data"
   ]
  },
  {
   "cell_type": "markdown",
   "metadata": {},
   "source": [
    "We are going to analyze the most critical elements of this road network, _bridges_ (because of their different conditions) and _intersections_ (because they could become bottlennecks of the general traffic flow)."
   ]
  },
  {
   "cell_type": "markdown",
   "metadata": {},
   "source": [
    "#### Most critical bridges"
   ]
  },
  {
   "cell_type": "markdown",
   "metadata": {},
   "source": [
    "We are going to analyze the bridges which already present a precarious condition, 'C' or 'D'."
   ]
  },
  {
   "cell_type": "code",
   "execution_count": 15,
   "metadata": {},
   "outputs": [],
   "source": [
    "# get bridges\n",
    "bridges = centrality_df.loc[centrality_df['Type'].str.startswith('bridge')]"
   ]
  },
  {
   "cell_type": "code",
   "execution_count": 16,
   "metadata": {},
   "outputs": [],
   "source": [
    "# add condition column\n",
    "for index, row in bridges.iterrows():\n",
    "    bridges.at[index, 'Condition'] = bridges.at[index, 'Type'][7] # get the last letter stored in the cell\n",
    "# remove the type column\n",
    "bridges = bridges.drop(columns=['Type'])\n",
    "#TODO: the at operation is raising warnings! And I suppress all warnings, so watch out"
   ]
  },
  {
   "cell_type": "code",
   "execution_count": 17,
   "metadata": {},
   "outputs": [
    {
     "data": {
      "text/html": [
       "<div>\n",
       "<style scoped>\n",
       "    .dataframe tbody tr th:only-of-type {\n",
       "        vertical-align: middle;\n",
       "    }\n",
       "\n",
       "    .dataframe tbody tr th {\n",
       "        vertical-align: top;\n",
       "    }\n",
       "\n",
       "    .dataframe thead th {\n",
       "        text-align: right;\n",
       "    }\n",
       "</style>\n",
       "<table border=\"1\" class=\"dataframe\">\n",
       "  <thead>\n",
       "    <tr style=\"text-align: right;\">\n",
       "      <th></th>\n",
       "      <th>Node id</th>\n",
       "      <th>Closeness</th>\n",
       "      <th>Betweenness</th>\n",
       "      <th>Condition</th>\n",
       "    </tr>\n",
       "  </thead>\n",
       "  <tbody>\n",
       "    <tr>\n",
       "      <th>2</th>\n",
       "      <td>N1_LRP001a</td>\n",
       "      <td>0.00241023</td>\n",
       "      <td>0.00206825</td>\n",
       "      <td>A</td>\n",
       "    </tr>\n",
       "    <tr>\n",
       "      <th>4</th>\n",
       "      <td>N1_LRP004b</td>\n",
       "      <td>0.00242187</td>\n",
       "      <td>0.00413222</td>\n",
       "      <td>A</td>\n",
       "    </tr>\n",
       "    <tr>\n",
       "      <th>8</th>\n",
       "      <td>N1_LRP008b</td>\n",
       "      <td>0.00242892</td>\n",
       "      <td>0.00300116</td>\n",
       "      <td>A</td>\n",
       "    </tr>\n",
       "    <tr>\n",
       "      <th>10</th>\n",
       "      <td>N1_LRP010b</td>\n",
       "      <td>0.00243127</td>\n",
       "      <td>0.00341245</td>\n",
       "      <td>A</td>\n",
       "    </tr>\n",
       "    <tr>\n",
       "      <th>12</th>\n",
       "      <td>N1_LRP010c</td>\n",
       "      <td>0.00243362</td>\n",
       "      <td>0.00382375</td>\n",
       "      <td>A</td>\n",
       "    </tr>\n",
       "  </tbody>\n",
       "</table>\n",
       "</div>"
      ],
      "text/plain": [
       "       Node id   Closeness Betweenness Condition\n",
       "2   N1_LRP001a  0.00241023  0.00206825         A\n",
       "4   N1_LRP004b  0.00242187  0.00413222         A\n",
       "8   N1_LRP008b  0.00242892  0.00300116         A\n",
       "10  N1_LRP010b  0.00243127  0.00341245         A\n",
       "12  N1_LRP010c  0.00243362  0.00382375         A"
      ]
     },
     "execution_count": 17,
     "metadata": {},
     "output_type": "execute_result"
    }
   ],
   "source": [
    "bridges.head()"
   ]
  },
  {
   "cell_type": "code",
   "execution_count": 18,
   "metadata": {},
   "outputs": [],
   "source": [
    "# keep only the worst bridges\n",
    "bridges_worst = bridges.loc[(bridges['Condition'] == 'C') | (bridges['Condition'] == 'D')]"
   ]
  },
  {
   "cell_type": "markdown",
   "metadata": {},
   "source": [
    "The get the most critical bridges, we simply sort these bridges according to their centrality metrics (higer values for closeness and betweenness): these are the bridges that are more highly to break down but at the same time hold an important position in the network."
   ]
  },
  {
   "cell_type": "code",
   "execution_count": 19,
   "metadata": {},
   "outputs": [
    {
     "name": "stdout",
     "output_type": "stream",
     "text": [
      "['N1_LRP094a', 'N1_LRP191c', 'N1_LRP208a', 'N1_LRP264c', 'N2_LRP031f']\n"
     ]
    }
   ],
   "source": [
    "most_critical_betw = bridges_worst.sort_values(by=['Betweenness'], ascending=[False]).head(5)['Node id'].tolist()\n",
    "print(most_critical_betw)"
   ]
  },
  {
   "cell_type": "code",
   "execution_count": 20,
   "metadata": {},
   "outputs": [
    {
     "name": "stdout",
     "output_type": "stream",
     "text": [
      "['N1_LRP094a', 'N1_LRP191c', 'N1_LRP208a', 'N2_LRP031f', 'N1_LRP264c']\n"
     ]
    }
   ],
   "source": [
    "most_critical_clos = bridges_worst.sort_values(by=['Closeness'], ascending=[False]).head(5)['Node id'].tolist()\n",
    "print(most_critical_clos)"
   ]
  },
  {
   "cell_type": "code",
   "execution_count": 21,
   "metadata": {},
   "outputs": [
    {
     "name": "stdout",
     "output_type": "stream",
     "text": [
      "['N1_LRP094a', 'N2_LRP031f', 'N1_LRP208a', 'N1_LRP191c', 'N1_LRP264c']\n"
     ]
    }
   ],
   "source": [
    "most_critical = list(set(most_critical_betw) & set(most_critical_clos))\n",
    "print(most_critical)"
   ]
  },
  {
   "cell_type": "markdown",
   "metadata": {},
   "source": [
    "Because of the topology of the network, we see that the most critical bridges have the heighest values for both <code>Closeness</code> and <code>Betweenness</code> metrics: these are the bridges that the Government of Bangladesh should invest on to the decrease the chances of major disturbances to the road network."
   ]
  },
  {
   "cell_type": "code",
   "execution_count": 22,
   "metadata": {},
   "outputs": [
    {
     "data": {
      "text/html": [
       "<div>\n",
       "<style scoped>\n",
       "    .dataframe tbody tr th:only-of-type {\n",
       "        vertical-align: middle;\n",
       "    }\n",
       "\n",
       "    .dataframe tbody tr th {\n",
       "        vertical-align: top;\n",
       "    }\n",
       "\n",
       "    .dataframe thead th {\n",
       "        text-align: right;\n",
       "    }\n",
       "</style>\n",
       "<table border=\"1\" class=\"dataframe\">\n",
       "  <thead>\n",
       "    <tr style=\"text-align: right;\">\n",
       "      <th></th>\n",
       "      <th>road</th>\n",
       "      <th>id</th>\n",
       "      <th>model_type</th>\n",
       "      <th>condition</th>\n",
       "      <th>name</th>\n",
       "      <th>lat</th>\n",
       "      <th>lon</th>\n",
       "      <th>length</th>\n",
       "    </tr>\n",
       "  </thead>\n",
       "  <tbody>\n",
       "    <tr>\n",
       "      <th>94</th>\n",
       "      <td>N1</td>\n",
       "      <td>N1_LRP094a</td>\n",
       "      <td>bridge</td>\n",
       "      <td>C</td>\n",
       "      <td>Mostapur Bridge</td>\n",
       "      <td>23.411932</td>\n",
       "      <td>91.193903</td>\n",
       "      <td>27.35</td>\n",
       "    </tr>\n",
       "    <tr>\n",
       "      <th>220</th>\n",
       "      <td>N1</td>\n",
       "      <td>N1_LRP191c</td>\n",
       "      <td>bridge</td>\n",
       "      <td>C</td>\n",
       "      <td>ISAMATI BOX CULVERT</td>\n",
       "      <td>22.713873</td>\n",
       "      <td>91.608235</td>\n",
       "      <td>19.20</td>\n",
       "    </tr>\n",
       "    <tr>\n",
       "      <th>264</th>\n",
       "      <td>N1</td>\n",
       "      <td>N1_LRP208a</td>\n",
       "      <td>bridge</td>\n",
       "      <td>C</td>\n",
       "      <td>BAROCONDO BRIDGE</td>\n",
       "      <td>22.587035</td>\n",
       "      <td>91.677044</td>\n",
       "      <td>22.25</td>\n",
       "    </tr>\n",
       "    <tr>\n",
       "      <th>360</th>\n",
       "      <td>N1</td>\n",
       "      <td>N1_LRP264c</td>\n",
       "      <td>bridge</td>\n",
       "      <td>C</td>\n",
       "      <td>AJIMPUR CUL</td>\n",
       "      <td>22.259052</td>\n",
       "      <td>92.008111</td>\n",
       "      <td>9.80</td>\n",
       "    </tr>\n",
       "    <tr>\n",
       "      <th>1239</th>\n",
       "      <td>N2</td>\n",
       "      <td>N2_LRP031f</td>\n",
       "      <td>bridge</td>\n",
       "      <td>C</td>\n",
       "      <td>SHIKANDI BOX CULVERT</td>\n",
       "      <td>23.895239</td>\n",
       "      <td>90.674440</td>\n",
       "      <td>2.50</td>\n",
       "    </tr>\n",
       "  </tbody>\n",
       "</table>\n",
       "</div>"
      ],
      "text/plain": [
       "     road          id model_type condition                  name        lat  \\\n",
       "94     N1  N1_LRP094a     bridge         C       Mostapur Bridge  23.411932   \n",
       "220    N1  N1_LRP191c     bridge         C   ISAMATI BOX CULVERT  22.713873   \n",
       "264    N1  N1_LRP208a     bridge         C      BAROCONDO BRIDGE  22.587035   \n",
       "360    N1  N1_LRP264c     bridge         C           AJIMPUR CUL  22.259052   \n",
       "1239   N2  N2_LRP031f     bridge         C  SHIKANDI BOX CULVERT  23.895239   \n",
       "\n",
       "            lon  length  \n",
       "94    91.193903   27.35  \n",
       "220   91.608235   19.20  \n",
       "264   91.677044   22.25  \n",
       "360   92.008111    9.80  \n",
       "1239  90.674440    2.50  "
      ]
     },
     "execution_count": 22,
     "metadata": {},
     "output_type": "execute_result"
    }
   ],
   "source": [
    "data.loc[data['id'].isin(most_critical)]"
   ]
  },
  {
   "cell_type": "markdown",
   "metadata": {},
   "source": [
    "#### Get the most critical intersections"
   ]
  },
  {
   "cell_type": "markdown",
   "metadata": {},
   "source": [
    "Also intersections can play an important role in traffic congestion. To find the most critical ones, we are going to apply the same analysis as we did for the bridges."
   ]
  },
  {
   "cell_type": "code",
   "execution_count": 23,
   "metadata": {},
   "outputs": [],
   "source": [
    "intersections = centrality_df.loc[centrality_df['Type'] == ('intersection')]"
   ]
  },
  {
   "cell_type": "code",
   "execution_count": 29,
   "metadata": {},
   "outputs": [
    {
     "name": "stdout",
     "output_type": "stream",
     "text": [
      "['N1_LRP084a-N102_LRPS', 'N1_LRP148a-N104_LRP001a', 'N2_LRP012b-N105_LRP012a', 'N1_LRP012c-N105_LRPS', 'N2_LRP117b-N204_LRPS']\n"
     ]
    }
   ],
   "source": [
    "most_critical_betw = intersections.sort_values(by=['Betweenness'], ascending=[False]).head(5)['Node id'].tolist()\n",
    "print(most_critical_betw)"
   ]
  },
  {
   "cell_type": "code",
   "execution_count": 30,
   "metadata": {},
   "outputs": [
    {
     "name": "stdout",
     "output_type": "stream",
     "text": [
      "['N1_LRP148a-N104_LRP001a', 'N1_LRP084a-N102_LRPS', 'N1_LRP012c-N105_LRPS', 'N2_LRP012b-N105_LRP012a', 'N1_LRP009a-N2_LRPS']\n"
     ]
    }
   ],
   "source": [
    "most_critical_clos = intersections.sort_values(by=['Closeness'], ascending=[False]).head(5)['Node id'].tolist()\n",
    "print(most_critical_clos)"
   ]
  },
  {
   "cell_type": "code",
   "execution_count": 33,
   "metadata": {},
   "outputs": [
    {
     "name": "stdout",
     "output_type": "stream",
     "text": [
      "['N2_LRP012b-N105_LRP012a', 'N1_LRP148a-N104_LRP001a', 'N1_LRP084a-N102_LRPS', 'N1_LRP012c-N105_LRPS']\n"
     ]
    }
   ],
   "source": [
    "most_critical = list(set(most_critical_betw) & set(most_critical_clos))\n",
    "print(most_critical)"
   ]
  },
  {
   "cell_type": "markdown",
   "metadata": {},
   "source": [
    "4 of the most critical bridges according to the <code>Betweenness</code> criteria are also important in terms of <code>Closeness</code>. But since the <code>Betweenness</code> metrics relies on the shortest path and intersections are key elements to switch from one road to another if the source and destination are not on the same road, the Government of Bangaldesh should highly value mainatnace of those interesections that have the highest value for the <code>Betweenness</code> metric."
   ]
  },
  {
   "cell_type": "code",
   "execution_count": 34,
   "metadata": {},
   "outputs": [],
   "source": [
    "most_critical = most_critical_betw"
   ]
  },
  {
   "cell_type": "code",
   "execution_count": 35,
   "metadata": {},
   "outputs": [
    {
     "data": {
      "text/html": [
       "<div>\n",
       "<style scoped>\n",
       "    .dataframe tbody tr th:only-of-type {\n",
       "        vertical-align: middle;\n",
       "    }\n",
       "\n",
       "    .dataframe tbody tr th {\n",
       "        vertical-align: top;\n",
       "    }\n",
       "\n",
       "    .dataframe thead th {\n",
       "        text-align: right;\n",
       "    }\n",
       "</style>\n",
       "<table border=\"1\" class=\"dataframe\">\n",
       "  <thead>\n",
       "    <tr style=\"text-align: right;\">\n",
       "      <th></th>\n",
       "      <th>id</th>\n",
       "      <th>lat</th>\n",
       "      <th>lon</th>\n",
       "    </tr>\n",
       "  </thead>\n",
       "  <tbody>\n",
       "    <tr>\n",
       "      <th>18</th>\n",
       "      <td>N1_LRP012c-N105_LRPS</td>\n",
       "      <td>23.690416</td>\n",
       "      <td>90.546597</td>\n",
       "    </tr>\n",
       "    <tr>\n",
       "      <th>86</th>\n",
       "      <td>N1_LRP084a-N102_LRPS</td>\n",
       "      <td>23.478972</td>\n",
       "      <td>91.118180</td>\n",
       "    </tr>\n",
       "    <tr>\n",
       "      <th>156</th>\n",
       "      <td>N1_LRP148a-N104_LRP001a</td>\n",
       "      <td>23.009542</td>\n",
       "      <td>91.381402</td>\n",
       "    </tr>\n",
       "    <tr>\n",
       "      <th>1177</th>\n",
       "      <td>N2_LRP012b-N105_LRP012a</td>\n",
       "      <td>23.785291</td>\n",
       "      <td>90.568847</td>\n",
       "    </tr>\n",
       "    <tr>\n",
       "      <th>1433</th>\n",
       "      <td>N2_LRP117b-N204_LRPS</td>\n",
       "      <td>24.147889</td>\n",
       "      <td>91.346527</td>\n",
       "    </tr>\n",
       "  </tbody>\n",
       "</table>\n",
       "</div>"
      ],
      "text/plain": [
       "                           id        lat        lon\n",
       "18       N1_LRP012c-N105_LRPS  23.690416  90.546597\n",
       "86       N1_LRP084a-N102_LRPS  23.478972  91.118180\n",
       "156   N1_LRP148a-N104_LRP001a  23.009542  91.381402\n",
       "1177  N2_LRP012b-N105_LRP012a  23.785291  90.568847\n",
       "1433     N2_LRP117b-N204_LRPS  24.147889  91.346527"
      ]
     },
     "execution_count": 35,
     "metadata": {},
     "output_type": "execute_result"
    }
   ],
   "source": [
    "data.loc[data['id'].isin(most_critical)][['id', 'lat', 'lon']].drop_duplicates()"
   ]
  },
  {
   "cell_type": "markdown",
   "metadata": {},
   "source": [
    "## References"
   ]
  },
  {
   "cell_type": "markdown",
   "metadata": {},
   "source": [
    "Erath, A., Löchl, M., Axhausen, K. W. (2008). Graph-Theoretical Analysis of the Swiss Road and Railway Networks Over Time. _Networks and Spatial Economics_, 9, 379–400. https://link.springer.com/article/10.1007/s11067-008-9074-7"
   ]
  }
 ],
 "metadata": {
  "kernelspec": {
   "display_name": "Python 3",
   "language": "python",
   "name": "python3"
  },
  "language_info": {
   "codemirror_mode": {
    "name": "ipython",
    "version": 3
   },
   "file_extension": ".py",
   "mimetype": "text/x-python",
   "name": "python",
   "nbconvert_exporter": "python",
   "pygments_lexer": "ipython3",
   "version": "3.8.5"
  }
 },
 "nbformat": 4,
 "nbformat_minor": 4
}
