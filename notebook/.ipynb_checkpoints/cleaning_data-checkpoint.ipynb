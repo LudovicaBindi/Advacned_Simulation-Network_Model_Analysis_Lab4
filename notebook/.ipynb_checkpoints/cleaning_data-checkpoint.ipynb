{
 "cells": [
  {
   "cell_type": "markdown",
   "metadata": {
    "tags": []
   },
   "source": [
    "# Data Cleaning\n",
    "\n",
    "In this notebook, we clean the data and format it based on our requirements. We start by importing, exploring and filtering our two dataframes: roads and BMMS. \n",
    "Following that, we identify intersections on the roads by a two-step process: (1) detecting road pairs that likely intersect and (2) calculating distance matrices on these pairs to determine the point of intersections.\n",
    "After intersections are identified, based on these intersection points and bridge data, we construct the data file to be read by the simulation model."
   ]
  },
  {
   "cell_type": "markdown",
   "metadata": {},
   "source": [
    "## Data Import and Exploration"
   ]
  },
  {
   "cell_type": "code",
   "execution_count": 1,
   "metadata": {},
   "outputs": [],
   "source": [
    "import pandas as pd\n",
    "import itertools\n",
    "import pandas as pd\n",
    "import numpy as np\n",
    "from scipy.spatial.distance import cdist\n",
    "from haversine import haversine\n",
    "import time\n",
    "import warnings\n",
    "\n",
    "warnings.filterwarnings(\"ignore\")  # to ignore depreciation warnings\n",
    "\n",
    "start_time = time.time()\n",
    "\n",
    "from IPython.display import Image"
   ]
  },
  {
   "cell_type": "code",
   "execution_count": 2,
   "metadata": {
    "pycharm": {
     "is_executing": true
    }
   },
   "outputs": [],
   "source": [
    "roads = pd.read_csv(\"../data/_roads3.csv\")\n",
    "bridges = pd.read_excel(\"../data/BMMS_overview.xlsx\")"
   ]
  },
  {
   "cell_type": "code",
   "execution_count": 3,
   "metadata": {},
   "outputs": [
    {
     "name": "stdout",
     "output_type": "stream",
     "text": [
      "<class 'pandas.core.frame.DataFrame'>\n",
      "RangeIndex: 51348 entries, 0 to 51347\n",
      "Data columns (total 8 columns):\n",
      " #   Column    Non-Null Count  Dtype  \n",
      "---  ------    --------------  -----  \n",
      " 0   road      51348 non-null  object \n",
      " 1   chainage  51348 non-null  float64\n",
      " 2   lrp       51348 non-null  object \n",
      " 3   lat       51348 non-null  float64\n",
      " 4   lon       51348 non-null  float64\n",
      " 5   gap       9074 non-null   object \n",
      " 6   type      51348 non-null  object \n",
      " 7   name      51348 non-null  object \n",
      "dtypes: float64(3), object(5)\n",
      "memory usage: 3.1+ MB\n"
     ]
    }
   ],
   "source": [
    "roads.info() # to see the number of rows, column names and brief summaries"
   ]
  },
  {
   "cell_type": "code",
   "execution_count": 4,
   "metadata": {},
   "outputs": [
    {
     "data": {
      "text/html": [
       "<div>\n",
       "<style scoped>\n",
       "    .dataframe tbody tr th:only-of-type {\n",
       "        vertical-align: middle;\n",
       "    }\n",
       "\n",
       "    .dataframe tbody tr th {\n",
       "        vertical-align: top;\n",
       "    }\n",
       "\n",
       "    .dataframe thead th {\n",
       "        text-align: right;\n",
       "    }\n",
       "</style>\n",
       "<table border=\"1\" class=\"dataframe\">\n",
       "  <thead>\n",
       "    <tr style=\"text-align: right;\">\n",
       "      <th></th>\n",
       "      <th>road</th>\n",
       "      <th>chainage</th>\n",
       "      <th>lrp</th>\n",
       "      <th>lat</th>\n",
       "      <th>lon</th>\n",
       "      <th>gap</th>\n",
       "      <th>type</th>\n",
       "      <th>name</th>\n",
       "    </tr>\n",
       "  </thead>\n",
       "  <tbody>\n",
       "    <tr>\n",
       "      <th>0</th>\n",
       "      <td>N1</td>\n",
       "      <td>0.000</td>\n",
       "      <td>LRPS</td>\n",
       "      <td>23.706028</td>\n",
       "      <td>90.443333</td>\n",
       "      <td>NaN</td>\n",
       "      <td>Others</td>\n",
       "      <td>Start of Road  after Jatrabari Flyover infront...</td>\n",
       "    </tr>\n",
       "    <tr>\n",
       "      <th>1</th>\n",
       "      <td>N1</td>\n",
       "      <td>0.814</td>\n",
       "      <td>LRPSa</td>\n",
       "      <td>23.702917</td>\n",
       "      <td>90.450417</td>\n",
       "      <td>NaN</td>\n",
       "      <td>Culvert</td>\n",
       "      <td>Box Culvert</td>\n",
       "    </tr>\n",
       "    <tr>\n",
       "      <th>2</th>\n",
       "      <td>N1</td>\n",
       "      <td>0.822</td>\n",
       "      <td>LRPSb</td>\n",
       "      <td>23.702778</td>\n",
       "      <td>90.450472</td>\n",
       "      <td>NaN</td>\n",
       "      <td>CrossRoad</td>\n",
       "      <td>Intersection with Z1101</td>\n",
       "    </tr>\n",
       "    <tr>\n",
       "      <th>3</th>\n",
       "      <td>N1</td>\n",
       "      <td>1.000</td>\n",
       "      <td>LRP001</td>\n",
       "      <td>23.702139</td>\n",
       "      <td>90.451972</td>\n",
       "      <td>NaN</td>\n",
       "      <td>KmPost</td>\n",
       "      <td>Km post missing</td>\n",
       "    </tr>\n",
       "    <tr>\n",
       "      <th>4</th>\n",
       "      <td>N1</td>\n",
       "      <td>2.000</td>\n",
       "      <td>LRP002</td>\n",
       "      <td>23.697889</td>\n",
       "      <td>90.460583</td>\n",
       "      <td>NaN</td>\n",
       "      <td>KmPost</td>\n",
       "      <td>Km post missing</td>\n",
       "    </tr>\n",
       "  </tbody>\n",
       "</table>\n",
       "</div>"
      ],
      "text/plain": [
       "  road  chainage     lrp        lat        lon  gap       type  \\\n",
       "0   N1     0.000    LRPS  23.706028  90.443333  NaN     Others   \n",
       "1   N1     0.814   LRPSa  23.702917  90.450417  NaN    Culvert   \n",
       "2   N1     0.822   LRPSb  23.702778  90.450472  NaN  CrossRoad   \n",
       "3   N1     1.000  LRP001  23.702139  90.451972  NaN     KmPost   \n",
       "4   N1     2.000  LRP002  23.697889  90.460583  NaN     KmPost   \n",
       "\n",
       "                                                name  \n",
       "0  Start of Road  after Jatrabari Flyover infront...  \n",
       "1                                        Box Culvert  \n",
       "2                            Intersection with Z1101  \n",
       "3                                    Km post missing  \n",
       "4                                    Km post missing  "
      ]
     },
     "execution_count": 4,
     "metadata": {},
     "output_type": "execute_result"
    }
   ],
   "source": [
    "roads.head() # to observe the first 5 columns of the dataframe"
   ]
  },
  {
   "cell_type": "code",
   "execution_count": 5,
   "metadata": {},
   "outputs": [
    {
     "name": "stdout",
     "output_type": "stream",
     "text": [
      "<class 'pandas.core.frame.DataFrame'>\n",
      "RangeIndex: 20415 entries, 0 to 20414\n",
      "Data columns (total 20 columns):\n",
      " #   Column            Non-Null Count  Dtype  \n",
      "---  ------            --------------  -----  \n",
      " 0   road              20415 non-null  object \n",
      " 1   km                20415 non-null  float64\n",
      " 2   type              20415 non-null  object \n",
      " 3   LRPName           20415 non-null  object \n",
      " 4   name              20100 non-null  object \n",
      " 5   length            20406 non-null  float64\n",
      " 6   condition         20415 non-null  object \n",
      " 7   structureNr       20415 non-null  int64  \n",
      " 8   roadName          20415 non-null  object \n",
      " 9   chainage          20415 non-null  float64\n",
      " 10  width             17408 non-null  float64\n",
      " 11  constructionYear  17407 non-null  float64\n",
      " 12  spans             17408 non-null  float64\n",
      " 13  zone              20415 non-null  object \n",
      " 14  circle            20415 non-null  object \n",
      " 15  division          20415 non-null  object \n",
      " 16  sub-division      20415 non-null  object \n",
      " 17  lat               20415 non-null  float64\n",
      " 18  lon               20415 non-null  float64\n",
      " 19  EstimatedLoc      20415 non-null  object \n",
      "dtypes: float64(8), int64(1), object(11)\n",
      "memory usage: 3.1+ MB\n"
     ]
    }
   ],
   "source": [
    "bridges.info() # to see the number of rows, column names and brief summaries"
   ]
  },
  {
   "cell_type": "code",
   "execution_count": 6,
   "metadata": {},
   "outputs": [
    {
     "data": {
      "text/html": [
       "<div>\n",
       "<style scoped>\n",
       "    .dataframe tbody tr th:only-of-type {\n",
       "        vertical-align: middle;\n",
       "    }\n",
       "\n",
       "    .dataframe tbody tr th {\n",
       "        vertical-align: top;\n",
       "    }\n",
       "\n",
       "    .dataframe thead th {\n",
       "        text-align: right;\n",
       "    }\n",
       "</style>\n",
       "<table border=\"1\" class=\"dataframe\">\n",
       "  <thead>\n",
       "    <tr style=\"text-align: right;\">\n",
       "      <th></th>\n",
       "      <th>road</th>\n",
       "      <th>km</th>\n",
       "      <th>type</th>\n",
       "      <th>LRPName</th>\n",
       "      <th>name</th>\n",
       "      <th>length</th>\n",
       "      <th>condition</th>\n",
       "      <th>structureNr</th>\n",
       "      <th>roadName</th>\n",
       "      <th>chainage</th>\n",
       "      <th>width</th>\n",
       "      <th>constructionYear</th>\n",
       "      <th>spans</th>\n",
       "      <th>zone</th>\n",
       "      <th>circle</th>\n",
       "      <th>division</th>\n",
       "      <th>sub-division</th>\n",
       "      <th>lat</th>\n",
       "      <th>lon</th>\n",
       "      <th>EstimatedLoc</th>\n",
       "    </tr>\n",
       "  </thead>\n",
       "  <tbody>\n",
       "    <tr>\n",
       "      <th>0</th>\n",
       "      <td>N1</td>\n",
       "      <td>1.800</td>\n",
       "      <td>Box Culvert</td>\n",
       "      <td>LRP001a</td>\n",
       "      <td>.</td>\n",
       "      <td>11.30</td>\n",
       "      <td>A</td>\n",
       "      <td>117861</td>\n",
       "      <td>Dhaka (Jatrabari)-Comilla (Mainamati)-Chittago...</td>\n",
       "      <td>1.800</td>\n",
       "      <td>19.5</td>\n",
       "      <td>2005.0</td>\n",
       "      <td>2.0</td>\n",
       "      <td>Dhaka</td>\n",
       "      <td>Dhaka</td>\n",
       "      <td>Narayanganj</td>\n",
       "      <td>Narayanganj-1</td>\n",
       "      <td>23.698739</td>\n",
       "      <td>90.458861</td>\n",
       "      <td>interpolate</td>\n",
       "    </tr>\n",
       "    <tr>\n",
       "      <th>1</th>\n",
       "      <td>N1</td>\n",
       "      <td>4.925</td>\n",
       "      <td>Box Culvert</td>\n",
       "      <td>LRP004b</td>\n",
       "      <td>.</td>\n",
       "      <td>6.60</td>\n",
       "      <td>A</td>\n",
       "      <td>117862</td>\n",
       "      <td>Dhaka (Jatrabari)-Comilla (Mainamati)-Chittago...</td>\n",
       "      <td>4.925</td>\n",
       "      <td>35.4</td>\n",
       "      <td>2006.0</td>\n",
       "      <td>1.0</td>\n",
       "      <td>Dhaka</td>\n",
       "      <td>Dhaka</td>\n",
       "      <td>Narayanganj</td>\n",
       "      <td>Narayanganj-1</td>\n",
       "      <td>23.694664</td>\n",
       "      <td>90.487775</td>\n",
       "      <td>interpolate</td>\n",
       "    </tr>\n",
       "    <tr>\n",
       "      <th>2</th>\n",
       "      <td>N1</td>\n",
       "      <td>8.976</td>\n",
       "      <td>PC Girder Bridge</td>\n",
       "      <td>LRP008b</td>\n",
       "      <td>Kanch pur Bridge.</td>\n",
       "      <td>394.23</td>\n",
       "      <td>A</td>\n",
       "      <td>119889</td>\n",
       "      <td>Dhaka (Jatrabari)-Comilla (Mainamati)-Chittago...</td>\n",
       "      <td>8.976</td>\n",
       "      <td>NaN</td>\n",
       "      <td>NaN</td>\n",
       "      <td>NaN</td>\n",
       "      <td>Dhaka</td>\n",
       "      <td>Dhaka</td>\n",
       "      <td>Narayanganj</td>\n",
       "      <td>Narayanganj-1</td>\n",
       "      <td>23.705060</td>\n",
       "      <td>90.523214</td>\n",
       "      <td>interpolate</td>\n",
       "    </tr>\n",
       "    <tr>\n",
       "      <th>3</th>\n",
       "      <td>N1</td>\n",
       "      <td>10.880</td>\n",
       "      <td>Box Culvert</td>\n",
       "      <td>LRP010b</td>\n",
       "      <td>NOYAPARA CULVERT</td>\n",
       "      <td>6.30</td>\n",
       "      <td>A</td>\n",
       "      <td>112531</td>\n",
       "      <td>Dhaka (Jatrabari)-Comilla (Mainamati)-Chittago...</td>\n",
       "      <td>10.880</td>\n",
       "      <td>12.2</td>\n",
       "      <td>1992.0</td>\n",
       "      <td>2.0</td>\n",
       "      <td>Dhaka</td>\n",
       "      <td>Dhaka</td>\n",
       "      <td>Narayanganj</td>\n",
       "      <td>Vitikandi</td>\n",
       "      <td>23.694391</td>\n",
       "      <td>90.537574</td>\n",
       "      <td>interpolate</td>\n",
       "    </tr>\n",
       "    <tr>\n",
       "      <th>4</th>\n",
       "      <td>N1</td>\n",
       "      <td>10.897</td>\n",
       "      <td>Box Culvert</td>\n",
       "      <td>LRP010c</td>\n",
       "      <td>ADUPUR CULVERT</td>\n",
       "      <td>6.30</td>\n",
       "      <td>A</td>\n",
       "      <td>112532</td>\n",
       "      <td>Dhaka (Jatrabari)-Comilla (Mainamati)-Chittago...</td>\n",
       "      <td>10.897</td>\n",
       "      <td>12.2</td>\n",
       "      <td>1984.0</td>\n",
       "      <td>2.0</td>\n",
       "      <td>Dhaka</td>\n",
       "      <td>Dhaka</td>\n",
       "      <td>Narayanganj</td>\n",
       "      <td>Vitikandi</td>\n",
       "      <td>23.694302</td>\n",
       "      <td>90.537707</td>\n",
       "      <td>interpolate</td>\n",
       "    </tr>\n",
       "  </tbody>\n",
       "</table>\n",
       "</div>"
      ],
      "text/plain": [
       "  road      km              type  LRPName               name  length  \\\n",
       "0   N1   1.800       Box Culvert  LRP001a                  .   11.30   \n",
       "1   N1   4.925       Box Culvert  LRP004b                  .    6.60   \n",
       "2   N1   8.976  PC Girder Bridge  LRP008b  Kanch pur Bridge.  394.23   \n",
       "3   N1  10.880       Box Culvert  LRP010b   NOYAPARA CULVERT    6.30   \n",
       "4   N1  10.897       Box Culvert  LRP010c     ADUPUR CULVERT    6.30   \n",
       "\n",
       "  condition  structureNr                                           roadName  \\\n",
       "0         A       117861  Dhaka (Jatrabari)-Comilla (Mainamati)-Chittago...   \n",
       "1         A       117862  Dhaka (Jatrabari)-Comilla (Mainamati)-Chittago...   \n",
       "2         A       119889  Dhaka (Jatrabari)-Comilla (Mainamati)-Chittago...   \n",
       "3         A       112531  Dhaka (Jatrabari)-Comilla (Mainamati)-Chittago...   \n",
       "4         A       112532  Dhaka (Jatrabari)-Comilla (Mainamati)-Chittago...   \n",
       "\n",
       "   chainage  width  constructionYear  spans   zone circle     division  \\\n",
       "0     1.800   19.5            2005.0    2.0  Dhaka  Dhaka  Narayanganj   \n",
       "1     4.925   35.4            2006.0    1.0  Dhaka  Dhaka  Narayanganj   \n",
       "2     8.976    NaN               NaN    NaN  Dhaka  Dhaka  Narayanganj   \n",
       "3    10.880   12.2            1992.0    2.0  Dhaka  Dhaka  Narayanganj   \n",
       "4    10.897   12.2            1984.0    2.0  Dhaka  Dhaka  Narayanganj   \n",
       "\n",
       "    sub-division        lat        lon EstimatedLoc  \n",
       "0  Narayanganj-1  23.698739  90.458861  interpolate  \n",
       "1  Narayanganj-1  23.694664  90.487775  interpolate  \n",
       "2  Narayanganj-1  23.705060  90.523214  interpolate  \n",
       "3      Vitikandi  23.694391  90.537574  interpolate  \n",
       "4      Vitikandi  23.694302  90.537707  interpolate  "
      ]
     },
     "execution_count": 6,
     "metadata": {},
     "output_type": "execute_result"
    }
   ],
   "source": [
    "bridges.head()"
   ]
  },
  {
   "cell_type": "markdown",
   "metadata": {},
   "source": [
    "## Data Filtering\n",
    "\n",
    "Let's check how many roads we initially have on the dataset."
   ]
  },
  {
   "cell_type": "code",
   "execution_count": 7,
   "metadata": {},
   "outputs": [
    {
     "name": "stdout",
     "output_type": "stream",
     "text": [
      "There are 847 roads in the roads data\n"
     ]
    }
   ],
   "source": [
    "print(\"There are\", len(roads.road.unique()), \"roads in the roads data\")"
   ]
  },
  {
   "cell_type": "markdown",
   "metadata": {},
   "source": [
    "Regarding the scope of the project, we will eliminate the roads that are not classified as N."
   ]
  },
  {
   "cell_type": "code",
   "execution_count": 8,
   "metadata": {},
   "outputs": [
    {
     "name": "stdout",
     "output_type": "stream",
     "text": [
      "After the elimination of R and Z roads, there are 88 roads left in the roads data\n"
     ]
    }
   ],
   "source": [
    "roads = roads[roads[\"road\"].str.contains(\"R\")==False] # to eliminate R roads\n",
    "roads = roads[roads[\"road\"].str.contains(\"Z\")==False] # to eliminate Z roads\n",
    "\n",
    "roads.reset_index()\n",
    "print(\"After the elimination of R and Z roads,\",\n",
    "      \"there are\", len(roads.road.unique()), \"roads left in the roads data\")"
   ]
  },
  {
   "cell_type": "markdown",
   "metadata": {},
   "source": [
    "Also, we want to exclude the roads that are shorter than 25 kms. To do that, we will use the ending LRPs (LRPEs). In case the chainage of a road's LRPE is smaller than 25, the road will be excluded."
   ]
  },
  {
   "cell_type": "code",
   "execution_count": 9,
   "metadata": {},
   "outputs": [
    {
     "name": "stdout",
     "output_type": "stream",
     "text": [
      "There are 88 roads in the roads data, but only 83 LRPEs are available.\n"
     ]
    }
   ],
   "source": [
    "# to create a dataframe with LRPEs only\n",
    "roads_LRPE = roads.copy()\n",
    "roads_LRPE = roads_LRPE[roads_LRPE[\"lrp\"].str.contains(\"LRPE\") == True]\n",
    "print(\"There are\", len(roads.road.unique()), \"roads in the roads data, but only\",\n",
    "     len(roads_LRPE.road.unique()), \"LRPEs are available.\")"
   ]
  },
  {
   "cell_type": "markdown",
   "metadata": {},
   "source": [
    "Strangely, there are two roads for which LRPE is not available. In that case, we will use the last available information."
   ]
  },
  {
   "cell_type": "code",
   "execution_count": 10,
   "metadata": {},
   "outputs": [
    {
     "data": {
      "text/plain": [
       "88"
      ]
     },
     "execution_count": 10,
     "metadata": {},
     "output_type": "execute_result"
    }
   ],
   "source": [
    "roads_LRPE = roads.drop_duplicates(subset=['road'], keep='last')\n",
    "len(roads_LRPE)"
   ]
  },
  {
   "cell_type": "code",
   "execution_count": 11,
   "metadata": {},
   "outputs": [
    {
     "name": "stdout",
     "output_type": "stream",
     "text": [
      "There are 58 roads that are shorter than 25 km\n"
     ]
    }
   ],
   "source": [
    "# to store the name of the roads to be excluded\n",
    "threshold = 25\n",
    "roads_LRPE = roads_LRPE[roads_LRPE.chainage < threshold]\n",
    "list_to_delete =roads_LRPE['road'].tolist()\n",
    "print(\"There are\",len(list_to_delete), \"roads that are shorter than\", threshold, \"km\")"
   ]
  },
  {
   "cell_type": "markdown",
   "metadata": {},
   "source": [
    "Now, let's exclude these roads from our roads dataframe."
   ]
  },
  {
   "cell_type": "code",
   "execution_count": 12,
   "metadata": {},
   "outputs": [
    {
     "name": "stdout",
     "output_type": "stream",
     "text": [
      "After the elimination of short roads, there are 30 roads left in the roads data\n"
     ]
    }
   ],
   "source": [
    "roads = roads[roads[\"road\"].str.contains('|'.join(list_to_delete))==False]\n",
    "\n",
    "roads.reset_index()\n",
    "print(\"After the elimination of short roads,\",\n",
    "      \"there are\", len(roads.road.unique()), \"roads left in the roads data\")"
   ]
  },
  {
   "cell_type": "markdown",
   "metadata": {},
   "source": [
    "Now, let's filter the bridge data based on this set of roads."
   ]
  },
  {
   "cell_type": "code",
   "execution_count": 13,
   "metadata": {},
   "outputs": [
    {
     "name": "stdout",
     "output_type": "stream",
     "text": [
      "Initially, there were 20415 bridges\n",
      "After the elimination based on road filtering, there are 4322 bridges left.\n"
     ]
    }
   ],
   "source": [
    "list_to_keep = roads.road.unique()\n",
    "\n",
    "print(\"Initially, there were\", len(bridges), \"bridges\")\n",
    "# eliminate based on list_to_keep\n",
    "bridges = bridges[bridges[\"road\"].str.contains('|'.join(list_to_keep))==True]\n",
    "print(\"After the elimination based on road filtering,\",\n",
    "      \"there are\", len(bridges), \"bridges left.\")"
   ]
  },
  {
   "cell_type": "markdown",
   "metadata": {},
   "source": [
    "## Identifying Intersections"
   ]
  },
  {
   "cell_type": "markdown",
   "metadata": {},
   "source": [
    "### 1. Detecting road pairs"
   ]
  },
  {
   "cell_type": "markdown",
   "metadata": {},
   "source": [
    "In order to detect the roads that likely intersect, we came up with a basic algorithm: checking all the possible combinations of LRPs between the two roads. However, we acknowledge that this algorithm is computationally heavy (O(n^2)). As these pairs will be analyzed in detail in **2. Distance matrices**, we decided to break after a match is found to improve the velocity."
   ]
  },
  {
   "cell_type": "code",
   "execution_count": 14,
   "metadata": {},
   "outputs": [],
   "source": [
    "# this function takes a database and a road name as input, and \n",
    "# returns an array where the LRP details of the road of interest is kept\n",
    "def db_to_array(db, road_name, lrp_column = \"lrp\", lat_column = \"lat\", lon_column = \"lon\"):\n",
    "    db = db.loc[db['road'] == road_name]\n",
    "    result = []\n",
    "    for index, row in db.iterrows():\n",
    "        result.append([row[lrp_column], row[lat_column], row[lon_column]])\n",
    "    return result"
   ]
  },
  {
   "cell_type": "code",
   "execution_count": 15,
   "metadata": {},
   "outputs": [
    {
     "name": "stdout",
     "output_type": "stream",
     "text": [
      "Number of LRPs on the road N1 : 1339\n"
     ]
    }
   ],
   "source": [
    "# let's try the function with N1\n",
    "road_name = \"N1\"\n",
    "print(\"Number of LRPs on the road\", road_name, \":\", len(db_to_array(roads, road_name)))"
   ]
  },
  {
   "cell_type": "code",
   "execution_count": 16,
   "metadata": {},
   "outputs": [],
   "source": [
    "# when given a pair of LRP details, \n",
    "# this function returns whether the lattitude and longitude percentage differences\n",
    "# are significantly small, i.e. similarity\n",
    "def check_similarity(lrp1, lrp2, significance_level = 0.001):\n",
    "    # both lrp1 and lrp2 should be arrays where\n",
    "    # 0th element = lrp reference,\n",
    "    # 1st element = latitude,\n",
    "    # 2nd element = longitude\n",
    "    if lrp1[1] > lrp1[1]:\n",
    "        dif_lat_per = ((lrp1[1] - lrp2[1]) / lrp1[1])\n",
    "    else:\n",
    "        dif_lat_per = ((lrp2[1] - lrp1[1]) / lrp2[1])\n",
    "    if lrp1[2] > lrp2[2]:\n",
    "        dif_lon_per = ((lrp1[2] - lrp2[2]) / lrp1[2])\n",
    "    else:\n",
    "        dif_lon_per = ((lrp2[2] - lrp1[2]) / lrp2[2])\n",
    "    if dif_lat_per < significance_level and dif_lon_per < significance_level:\n",
    "        return True\n",
    "    else:\n",
    "        return False"
   ]
  },
  {
   "cell_type": "code",
   "execution_count": 17,
   "metadata": {},
   "outputs": [],
   "source": [
    "def array_similarity(arr1, arr2):\n",
    "    for n1 in arr1:\n",
    "        for n2 in arr2:\n",
    "            if check_similarity(n1, n2) == True:\n",
    "                # since we found a match there is no need to keep looking for others\n",
    "                return True\n",
    "    # if no match is found, then the function should return false\n",
    "    return False"
   ]
  },
  {
   "cell_type": "code",
   "execution_count": 18,
   "metadata": {},
   "outputs": [],
   "source": [
    "def road_similarity(db, road_name1, road_name2):\n",
    "    arr1 = db_to_array(db, road_name1)\n",
    "    arr2 = db_to_array(db, road_name2)\n",
    "    return array_similarity(arr1, arr2)"
   ]
  },
  {
   "cell_type": "code",
   "execution_count": 19,
   "metadata": {},
   "outputs": [
    {
     "name": "stdout",
     "output_type": "stream",
     "text": [
      "Result from similarity test for N1 and N2: True\n",
      "Result from similarity test for N1 and N509: False\n"
     ]
    }
   ],
   "source": [
    "# let's test our function with two pairs:\n",
    "print(\"Result from similarity test for N1 and N2:\",road_similarity(roads,\"N1\", \"N2\"))\n",
    "# let's try\n",
    "print(\"Result from similarity test for N1 and N509:\",road_similarity(roads,\"N1\", \"N509\"))"
   ]
  },
  {
   "cell_type": "markdown",
   "metadata": {},
   "source": [
    "First, we want to filter the roads that are connected to neither N1 nor N1."
   ]
  },
  {
   "cell_type": "code",
   "execution_count": 20,
   "metadata": {},
   "outputs": [
    {
     "name": "stdout",
     "output_type": "stream",
     "text": [
      "There are 28 side roads\n"
     ]
    }
   ],
   "source": [
    "side_roads = [item for item in list_to_keep if item not in (\"N1\", \"N2\")]\n",
    "print(\"There are\",len(side_roads), \"side roads\")"
   ]
  },
  {
   "cell_type": "code",
   "execution_count": 21,
   "metadata": {},
   "outputs": [],
   "source": [
    "similar_pairs = [[\"N1\", \"N2\"]] # we already know that N1 and N2 are connected\n",
    "side_roads_to_keep = []\n",
    "\n",
    "for road_name in side_roads:\n",
    "    similarity_found = False # we will start by assuming that we won't find a similarity\n",
    "    \n",
    "    # first, we will check whether we detect a hint of connection with N1\n",
    "    if road_similarity(roads, \"N1\", road_name):\n",
    "        similarity_found = True\n",
    "        similar_pairs.append([\"N1\", road_name])\n",
    "    \n",
    "    # then, we will check whether we detect a hint of connection with N2\n",
    "    if road_similarity(roads, \"N2\", road_name):\n",
    "        similarity_found = True\n",
    "        similar_pairs.append([\"N2\", road_name])\n",
    "    \n",
    "    # if at least one of these functions returned a match, then we will keep the road\n",
    "    if similarity_found:\n",
    "        side_roads_to_keep.append(road_name)\n",
    "        "
   ]
  },
  {
   "cell_type": "code",
   "execution_count": 22,
   "metadata": {},
   "outputs": [
    {
     "data": {
      "text/plain": [
       "array(['N1', 'N2', 'N102', 'N104', 'N105', 'N106', 'N204', 'N207', 'N208',\n",
       "       'N8', 'N809'], dtype='<U4')"
      ]
     },
     "execution_count": 22,
     "metadata": {},
     "output_type": "execute_result"
    }
   ],
   "source": [
    "# so, the list of roads to be kept is the following:\n",
    "list_to_keep = np.concatenate(([\"N1\", \"N2\"],side_roads_to_keep))\n",
    "list_to_keep"
   ]
  },
  {
   "cell_type": "code",
   "execution_count": 23,
   "metadata": {},
   "outputs": [
    {
     "data": {
      "text/plain": [
       "[['N1', 'N2'],\n",
       " ['N1', 'N102'],\n",
       " ['N2', 'N102'],\n",
       " ['N1', 'N104'],\n",
       " ['N2', 'N104'],\n",
       " ['N1', 'N105'],\n",
       " ['N2', 'N105'],\n",
       " ['N1', 'N106'],\n",
       " ['N2', 'N106'],\n",
       " ['N2', 'N204'],\n",
       " ['N2', 'N207'],\n",
       " ['N2', 'N208'],\n",
       " ['N1', 'N8'],\n",
       " ['N2', 'N8'],\n",
       " ['N1', 'N809'],\n",
       " ['N2', 'N809']]"
      ]
     },
     "execution_count": 23,
     "metadata": {},
     "output_type": "execute_result"
    }
   ],
   "source": [
    "# the road pairs for which intersections are to be identified are the following:\n",
    "similar_pairs"
   ]
  },
  {
   "cell_type": "markdown",
   "metadata": {},
   "source": [
    "Here is the code if we decide on including other N-roads intersections:"
   ]
  },
  {
   "cell_type": "code",
   "execution_count": 24,
   "metadata": {},
   "outputs": [
    {
     "data": {
      "text/plain": [
       "6"
      ]
     },
     "execution_count": 24,
     "metadata": {},
     "output_type": "execute_result"
    }
   ],
   "source": [
    "side_road_pairs = []\n",
    "for i in range(len(side_roads_to_keep)):\n",
    "    side_road_1 = side_roads_to_keep[i]\n",
    "    for j in range(i+1,len(side_roads_to_keep)):\n",
    "        side_road_2 = side_roads_to_keep[j]\n",
    "        if road_similarity(roads, side_road_1, side_road_2):\n",
    "            side_road_pairs.append([side_road_1, side_road_2])\n",
    "len(side_road_pairs)"
   ]
  },
  {
   "cell_type": "markdown",
   "metadata": {
    "tags": []
   },
   "source": [
    "### 2. Distance matrices"
   ]
  },
  {
   "cell_type": "code",
   "execution_count": 25,
   "metadata": {},
   "outputs": [
    {
     "data": {
      "text/html": [
       "<div>\n",
       "<style scoped>\n",
       "    .dataframe tbody tr th:only-of-type {\n",
       "        vertical-align: middle;\n",
       "    }\n",
       "\n",
       "    .dataframe tbody tr th {\n",
       "        vertical-align: top;\n",
       "    }\n",
       "\n",
       "    .dataframe thead th {\n",
       "        text-align: right;\n",
       "    }\n",
       "</style>\n",
       "<table border=\"1\" class=\"dataframe\">\n",
       "  <thead>\n",
       "    <tr style=\"text-align: right;\">\n",
       "      <th></th>\n",
       "      <th>road</th>\n",
       "      <th>chainage</th>\n",
       "      <th>lrp</th>\n",
       "      <th>lat</th>\n",
       "      <th>lon</th>\n",
       "      <th>gap</th>\n",
       "      <th>type</th>\n",
       "      <th>name</th>\n",
       "      <th>road_lrp</th>\n",
       "      <th>coordinates</th>\n",
       "    </tr>\n",
       "  </thead>\n",
       "  <tbody>\n",
       "    <tr>\n",
       "      <th>0</th>\n",
       "      <td>N1</td>\n",
       "      <td>0.000</td>\n",
       "      <td>LRPS</td>\n",
       "      <td>23.706028</td>\n",
       "      <td>90.443333</td>\n",
       "      <td>NaN</td>\n",
       "      <td>Others</td>\n",
       "      <td>Start of Road  after Jatrabari Flyover infront...</td>\n",
       "      <td>N1_LRPS</td>\n",
       "      <td>(23.7060278, 90.443333)</td>\n",
       "    </tr>\n",
       "    <tr>\n",
       "      <th>1</th>\n",
       "      <td>N1</td>\n",
       "      <td>0.814</td>\n",
       "      <td>LRPSa</td>\n",
       "      <td>23.702917</td>\n",
       "      <td>90.450417</td>\n",
       "      <td>NaN</td>\n",
       "      <td>Culvert</td>\n",
       "      <td>Box Culvert</td>\n",
       "      <td>N1_LRPSa</td>\n",
       "      <td>(23.7029167, 90.4504167)</td>\n",
       "    </tr>\n",
       "    <tr>\n",
       "      <th>2</th>\n",
       "      <td>N1</td>\n",
       "      <td>0.822</td>\n",
       "      <td>LRPSb</td>\n",
       "      <td>23.702778</td>\n",
       "      <td>90.450472</td>\n",
       "      <td>NaN</td>\n",
       "      <td>CrossRoad</td>\n",
       "      <td>Intersection with Z1101</td>\n",
       "      <td>N1_LRPSb</td>\n",
       "      <td>(23.7027778, 90.4504722)</td>\n",
       "    </tr>\n",
       "    <tr>\n",
       "      <th>3</th>\n",
       "      <td>N1</td>\n",
       "      <td>1.000</td>\n",
       "      <td>LRP001</td>\n",
       "      <td>23.702139</td>\n",
       "      <td>90.451972</td>\n",
       "      <td>NaN</td>\n",
       "      <td>KmPost</td>\n",
       "      <td>Km post missing</td>\n",
       "      <td>N1_LRP001</td>\n",
       "      <td>(23.7021389, 90.4519722)</td>\n",
       "    </tr>\n",
       "    <tr>\n",
       "      <th>4</th>\n",
       "      <td>N1</td>\n",
       "      <td>2.000</td>\n",
       "      <td>LRP002</td>\n",
       "      <td>23.697889</td>\n",
       "      <td>90.460583</td>\n",
       "      <td>NaN</td>\n",
       "      <td>KmPost</td>\n",
       "      <td>Km post missing</td>\n",
       "      <td>N1_LRP002</td>\n",
       "      <td>(23.6978886, 90.4605833)</td>\n",
       "    </tr>\n",
       "  </tbody>\n",
       "</table>\n",
       "</div>"
      ],
      "text/plain": [
       "  road  chainage     lrp        lat        lon  gap       type  \\\n",
       "0   N1     0.000    LRPS  23.706028  90.443333  NaN     Others   \n",
       "1   N1     0.814   LRPSa  23.702917  90.450417  NaN    Culvert   \n",
       "2   N1     0.822   LRPSb  23.702778  90.450472  NaN  CrossRoad   \n",
       "3   N1     1.000  LRP001  23.702139  90.451972  NaN     KmPost   \n",
       "4   N1     2.000  LRP002  23.697889  90.460583  NaN     KmPost   \n",
       "\n",
       "                                                name   road_lrp  \\\n",
       "0  Start of Road  after Jatrabari Flyover infront...    N1_LRPS   \n",
       "1                                        Box Culvert   N1_LRPSa   \n",
       "2                            Intersection with Z1101   N1_LRPSb   \n",
       "3                                    Km post missing  N1_LRP001   \n",
       "4                                    Km post missing  N1_LRP002   \n",
       "\n",
       "                coordinates  \n",
       "0   (23.7060278, 90.443333)  \n",
       "1  (23.7029167, 90.4504167)  \n",
       "2  (23.7027778, 90.4504722)  \n",
       "3  (23.7021389, 90.4519722)  \n",
       "4  (23.6978886, 90.4605833)  "
      ]
     },
     "execution_count": 25,
     "metadata": {},
     "output_type": "execute_result"
    }
   ],
   "source": [
    "roads['road_lrp'] = roads[['road', 'lrp']].agg('_'.join, axis=1) # creating supporting column with road name and lrp concatenated\n",
    "roads['coordinates'] = list(zip(roads.lat, roads.lon)) # creating supporting column with coordinates (lat,lon)\n",
    "roads.head()"
   ]
  },
  {
   "cell_type": "markdown",
   "metadata": {},
   "source": [
    "#### *Computing distances*\n",
    "The distance **between each point from road i to road j** was calculated using scipy.spatial.distance and haversine metric. After performing the calculations, the matrix was converted into a dataframe similar to the one depicted below, in which every row concerns a point from road i and every column concerns a point from road j"
   ]
  },
  {
   "cell_type": "markdown",
   "metadata": {},
   "source": [
    "![distance matrix](https://46gyn61z4i0t1u1pnq2bbk2e-wpengine.netdna-ssl.com/wp-content/uploads/2018/04/Distance-Matrix.png)"
   ]
  },
  {
   "cell_type": "markdown",
   "metadata": {},
   "source": [
    "We created a function to return the filtered dataframes from the roads dataset, so we can calculate the distance between ear pair or roads as stated in similar_pairs list above"
   ]
  },
  {
   "cell_type": "code",
   "execution_count": 26,
   "metadata": {},
   "outputs": [],
   "source": [
    "def filter_dataframes(from_road,to_road):\n",
    "    \"\"\"\n",
    "    \n",
    "    Returns filtered dataframes from the original roads data based on the specific roads of interest (from_road and to_road)\n",
    "\n",
    "    \"\"\"\n",
    "    df_from = roads.loc[roads['road']== from_road].copy()\n",
    "    df_from = df_from.sort_values(by='chainage', ascending=True)\n",
    "    df_from = df_from.reset_index()\n",
    "    df_from = df_from.iloc[: , 1:]\n",
    "\n",
    "    df_to = roads.loc[roads['road']== to_road].copy()\n",
    "    df_to = df_to.sort_values(by='chainage', ascending=True)\n",
    "    df_to = df_to.reset_index()\n",
    "    df_to = df_to.iloc[: , 1:]\n",
    "\n",
    "    \n",
    "    return (df_from,df_to)"
   ]
  },
  {
   "cell_type": "markdown",
   "metadata": {},
   "source": [
    "The next step is to compute the distance between every point from road i to every point in road j, according to the similar_pairs list above"
   ]
  },
  {
   "cell_type": "code",
   "execution_count": 27,
   "metadata": {},
   "outputs": [],
   "source": [
    "threshold = 30 # this is the threshold to be considered as an intersection between the roads (if distance is less than threshold, then it is an intersection)\n",
    "intersections_dict_aggregated = {}\n",
    "\n",
    "# iterate through the list of road pairs for which intersections are to be identified\n",
    "\n",
    "for item in similar_pairs:\n",
    "    from_road = item[0]\n",
    "    to_road = item[1]\n",
    "    \n",
    "    from_road_df, to_road_df = filter_dataframes(from_road,to_road)\n",
    "\n",
    "    # creating lists of the relevant roads with the information of road name and lrp\n",
    "    # this is used later on to replace the column names and index of the distance matrix\n",
    "    from_road_list = from_road_df['road_lrp'].tolist()\n",
    "    to_road_list = to_road_df['road_lrp'].tolist()\n",
    "\n",
    "    # creating numpy arrays of the lat and lon of each datapoint of each relevant road\n",
    "    # this is needed to compute the distance between each point\n",
    "    from_road_locations = np.array(from_road_df[['lat','lon']])\n",
    "    to_road_locations = np.array(to_road_df[['lat','lon']])\n",
    "\n",
    "    # computing the distance between each point from the first road to each point in the second road\n",
    "    # this method used the haversine metric (haversine formula determines the great-circle distance between two points on a sphere given their longitudes and latitudes)\n",
    "    distance_array = cdist(from_road_locations, to_road_locations, metric=haversine, unit='m')\n",
    "\n",
    "    # creating the dataframe from the distance calculation\n",
    "    distance_df = pd.DataFrame(distance_array)\n",
    "    distance_df = distance_df.set_axis(to_road_list, axis='columns') # adding the name of the columns to be each point in the second road (road j)\n",
    "    distance_df.insert(0,'FROM',from_road_df['road_lrp'].copy()) # adding a column with the \"from\" information (i.e., each point from road i)\n",
    "    distance_df.set_index('FROM', inplace=True)\n",
    "    \n",
    "    # getting the position in array in which the values that meet the threshold are\n",
    "    meets_threshold_array = np.where(distance_array < threshold)\n",
    "\n",
    "    # getting the values that meet the threshold\n",
    "    meets_threshold_values = list(distance_array[distance_array < threshold])\n",
    "\n",
    "    # arranging the positions returned from meets_threshold_array into tuples (x,y) in which the first value is the row and the second is the column of each value that meets the threshold\n",
    "    list_of_coordinates = list(zip(meets_threshold_array[0], meets_threshold_array[1])) # get the id of row and column of the values that met the threshold criteria\n",
    "\n",
    "    col_name = [] # supporting list for the column names\n",
    "    index_name = [] # supporting list for the index names\n",
    "    col_coordinates = [] # supporting list for the column coordinates (from original roads data)\n",
    "    index_coordinates = [] # supporting list for the index coordinates (from original roads data)\n",
    "    col_chainage = [] # supporting list for the column chainage (from original roads data - sorting purposes)\n",
    "    index_chainage = [] # supporting list for the column chainage (from original roads data - sorting purposes)\n",
    "    index_lat = [] # supporting list for the latitude (from original roads data)\n",
    "    index_lon = [] # supporting list for the longitude (from original roads data)\n",
    "    col_lat = [] # supporting list for the latitude (from original roads data)\n",
    "    col_lon = [] # supporting list for the longitude (from original roads data)\n",
    "\n",
    "    intersections_dict = {}\n",
    "\n",
    "    ##### remove when working ok #####\n",
    "    next_index_name = [] # supporting list for the next index names\n",
    "    next_col_name = [] # supporting list for the next column names\n",
    "    \n",
    "\n",
    "    # iterate through the tuples in the list of coordinates\n",
    "    for elem in list_of_coordinates:\n",
    "        row = elem[0] # row is the first element in each tuple\n",
    "        col = elem[1] # column is the second element in each tuple\n",
    "        next_point_from_road = row + 1 # get the next point in the from_road (so we know where to position the intersection later, i.e., between row and row+1 items in the original dataset)\n",
    "        if next_point_from_road > len(from_road_df)-1: # if end of the road, use row and not row+1 (out of bound)\n",
    "            next_point_from_road = row\n",
    "        next_point_to_road = col + 1 # get the next point in the from_road (so we know where to position the intersection later, i.e., between col and col+1 items in the original dataset)\n",
    "        if next_point_to_road > len(to_road_df)-1: # if end of the road, use row and not row+1 (out of bound)\n",
    "            next_point_to_road = col\n",
    "\n",
    "        index_name.append(distance_df.index[row]) # index_name gets the name of the row in dataframe equivalent to the 1st value of list of coordinates (X,y)\n",
    "        col_name.append(distance_df.columns[col]) # col_name gets the name of the column in dataframe equivalent to the 2nd value of list of coordinates (x,Y)\n",
    "        index_coordinates.append(roads[roads['road_lrp']==distance_df.index[row]]['coordinates'].values[0]) # \n",
    "        col_coordinates.append(roads[roads['road_lrp']==distance_df.columns[col]]['coordinates'].values[0])\n",
    "        index_chainage.append(roads[roads['road_lrp']==distance_df.index[row]]['chainage'].values[0])\n",
    "        col_chainage.append(roads[roads['road_lrp']==distance_df.columns[col]]['chainage'].values[0])\n",
    "        index_lat.append(roads[roads['road_lrp']==distance_df.index[row]]['lat'].values[0])\n",
    "        index_lon.append(roads[roads['road_lrp']==distance_df.index[row]]['lon'].values[0])\n",
    "        col_lat.append(roads[roads['road_lrp']==distance_df.columns[col]]['lat'].values[0])\n",
    "        col_lon.append(roads[roads['road_lrp']==distance_df.columns[col]]['lon'].values[0])\n",
    "\n",
    "        ##### remove when working ok #####\n",
    "        #next_index_name.append(distance_df.index[next_point_from_road]) # next_index_name gets the name of the next row in dataframe equivalent to the 1st value of list of coordinates (X+1,y)\n",
    "        #next_col_name.append(distance_df.columns[next_point_to_road]) # next_col_name gets the name of the next column in dataframe equivalent to the 2nd value of list of coordinates (x,Y+1)\n",
    "\n",
    "    \n",
    "    # putting structure index_name and col_name in a list of tupples -- ##### remove when working ok #####\n",
    "    dataframe_zip = zip(index_name, col_name)\n",
    "    dataframe_info = list(dataframe_zip)\n",
    "    dataframe_next_values_zip = zip(next_index_name, next_col_name)\n",
    "    dataframe_next_values_info = list(dataframe_next_values_zip)\n",
    "\n",
    "    # ,index_chainage[i],col_chainage[i]\n",
    "\n",
    "    # creates dictionary with value that meets threshold and column and index names from meets_threshold_values and dataframe\n",
    "    #intersections_dict = {meets_threshold_values[i]: [dataframe_info[i], dataframe_next_values_info[i]] for i in range(len(meets_threshold_values))}\n",
    "    intersections_dict = {meets_threshold_values[i]: [index_name[i],col_name[i],index_coordinates[i],col_coordinates[i],\n",
    "    index_chainage[i],col_chainage[i],index_lat[i],index_lon[i],col_lat[i],col_lon[i]] for i in range(len(meets_threshold_values))}\n",
    "    #intersections_dict_aggregated = intersections_dict_aggregated | intersections_dict\n",
    "    intersections_dict_aggregated.update(intersections_dict)\n"
   ]
  },
  {
   "cell_type": "code",
   "execution_count": 28,
   "metadata": {},
   "outputs": [
    {
     "data": {
      "text/plain": [
       "dict_keys([20.37415958669164, 19.836828355177154, 2.835289605490322, 9.078351803300341, 2.8307252713980935, 29.759390807779774, 23.2289863120673, 18.004837785974672, 22.890557516366083, 18.737016056778035, 17.582928945522127])"
      ]
     },
     "execution_count": 28,
     "metadata": {},
     "output_type": "execute_result"
    }
   ],
   "source": [
    "# consolidated dictionary with all intersections found within threshold specified\n",
    "intersections_dict_aggregated.keys()"
   ]
  },
  {
   "cell_type": "code",
   "execution_count": 29,
   "metadata": {},
   "outputs": [
    {
     "data": {
      "text/html": [
       "<div>\n",
       "<style scoped>\n",
       "    .dataframe tbody tr th:only-of-type {\n",
       "        vertical-align: middle;\n",
       "    }\n",
       "\n",
       "    .dataframe tbody tr th {\n",
       "        vertical-align: top;\n",
       "    }\n",
       "\n",
       "    .dataframe thead th {\n",
       "        text-align: right;\n",
       "    }\n",
       "</style>\n",
       "<table border=\"1\" class=\"dataframe\">\n",
       "  <thead>\n",
       "    <tr style=\"text-align: right;\">\n",
       "      <th></th>\n",
       "      <th>distance</th>\n",
       "      <th>from_road_point</th>\n",
       "      <th>to_road_point</th>\n",
       "      <th>from_road_point_coords</th>\n",
       "      <th>to_road_point_coords</th>\n",
       "      <th>from_road_point_chainage</th>\n",
       "      <th>to_road_point_chainage</th>\n",
       "      <th>from_road_point_lat</th>\n",
       "      <th>from_road_point_lon</th>\n",
       "      <th>to_road_point_lat</th>\n",
       "      <th>to_road_point_lon</th>\n",
       "      <th>intersection_lat</th>\n",
       "      <th>intersection_lon</th>\n",
       "      <th>from_road</th>\n",
       "      <th>to_road</th>\n",
       "      <th>id</th>\n",
       "      <th>from_road_to_road</th>\n",
       "      <th>Counts</th>\n",
       "    </tr>\n",
       "  </thead>\n",
       "  <tbody>\n",
       "    <tr>\n",
       "      <th>0</th>\n",
       "      <td>20.374160</td>\n",
       "      <td>N1_LRP009a</td>\n",
       "      <td>N2_LRPS</td>\n",
       "      <td>(23.7060833, 90.5215271)</td>\n",
       "      <td>(23.7059167, 90.5214438)</td>\n",
       "      <td>8.763</td>\n",
       "      <td>0.000</td>\n",
       "      <td>23.706083</td>\n",
       "      <td>90.521527</td>\n",
       "      <td>23.705917</td>\n",
       "      <td>90.521444</td>\n",
       "      <td>23.706000</td>\n",
       "      <td>90.521485</td>\n",
       "      <td>N1</td>\n",
       "      <td>N2</td>\n",
       "      <td>N1_LRP009a-N2_LRPS</td>\n",
       "      <td>N1-N2</td>\n",
       "      <td>1</td>\n",
       "    </tr>\n",
       "    <tr>\n",
       "      <th>1</th>\n",
       "      <td>19.836828</td>\n",
       "      <td>N1_LRP084</td>\n",
       "      <td>N102_LRPS</td>\n",
       "      <td>(23.4789716, 91.1179993)</td>\n",
       "      <td>(23.4789716, 91.1181938)</td>\n",
       "      <td>81.829</td>\n",
       "      <td>0.000</td>\n",
       "      <td>23.478972</td>\n",
       "      <td>91.117999</td>\n",
       "      <td>23.478972</td>\n",
       "      <td>91.118194</td>\n",
       "      <td>23.478972</td>\n",
       "      <td>91.118097</td>\n",
       "      <td>N1</td>\n",
       "      <td>N102</td>\n",
       "      <td>N1_LRP084-N102_LRPS</td>\n",
       "      <td>N1-N102</td>\n",
       "      <td>2</td>\n",
       "    </tr>\n",
       "    <tr>\n",
       "      <th>2</th>\n",
       "      <td>2.835290</td>\n",
       "      <td>N1_LRP084a</td>\n",
       "      <td>N102_LRPS</td>\n",
       "      <td>(23.4789716, 91.118166)</td>\n",
       "      <td>(23.4789716, 91.1181938)</td>\n",
       "      <td>81.846</td>\n",
       "      <td>0.000</td>\n",
       "      <td>23.478972</td>\n",
       "      <td>91.118166</td>\n",
       "      <td>23.478972</td>\n",
       "      <td>91.118194</td>\n",
       "      <td>23.478972</td>\n",
       "      <td>91.118180</td>\n",
       "      <td>N1</td>\n",
       "      <td>N102</td>\n",
       "      <td>N1_LRP084a-N102_LRPS</td>\n",
       "      <td>N1-N102</td>\n",
       "      <td>2</td>\n",
       "    </tr>\n",
       "    <tr>\n",
       "      <th>3</th>\n",
       "      <td>9.078352</td>\n",
       "      <td>N1_LRP148a</td>\n",
       "      <td>N104_LRP001a</td>\n",
       "      <td>(23.0095556, 91.3813604)</td>\n",
       "      <td>(23.0095278, 91.3814438)</td>\n",
       "      <td>145.409</td>\n",
       "      <td>1.878</td>\n",
       "      <td>23.009556</td>\n",
       "      <td>91.381360</td>\n",
       "      <td>23.009528</td>\n",
       "      <td>91.381444</td>\n",
       "      <td>23.009542</td>\n",
       "      <td>91.381402</td>\n",
       "      <td>N1</td>\n",
       "      <td>N104</td>\n",
       "      <td>N1_LRP148a-N104_LRP001a</td>\n",
       "      <td>N1-N104</td>\n",
       "      <td>1</td>\n",
       "    </tr>\n",
       "    <tr>\n",
       "      <th>4</th>\n",
       "      <td>2.830725</td>\n",
       "      <td>N1_LRP012c</td>\n",
       "      <td>N105_LRPS</td>\n",
       "      <td>(23.6904163, 90.546583)</td>\n",
       "      <td>(23.6904163, 90.5466108)</td>\n",
       "      <td>11.936</td>\n",
       "      <td>0.000</td>\n",
       "      <td>23.690416</td>\n",
       "      <td>90.546583</td>\n",
       "      <td>23.690416</td>\n",
       "      <td>90.546611</td>\n",
       "      <td>23.690416</td>\n",
       "      <td>90.546597</td>\n",
       "      <td>N1</td>\n",
       "      <td>N105</td>\n",
       "      <td>N1_LRP012c-N105_LRPS</td>\n",
       "      <td>N1-N105</td>\n",
       "      <td>1</td>\n",
       "    </tr>\n",
       "    <tr>\n",
       "      <th>5</th>\n",
       "      <td>29.759391</td>\n",
       "      <td>N2_LRP012a</td>\n",
       "      <td>N105_LRP012a</td>\n",
       "      <td>(23.785333, 90.5685549)</td>\n",
       "      <td>(23.7851941, 90.5688049)</td>\n",
       "      <td>11.464</td>\n",
       "      <td>12.803</td>\n",
       "      <td>23.785333</td>\n",
       "      <td>90.568555</td>\n",
       "      <td>23.785194</td>\n",
       "      <td>90.568805</td>\n",
       "      <td>23.785264</td>\n",
       "      <td>90.568680</td>\n",
       "      <td>N2</td>\n",
       "      <td>N105</td>\n",
       "      <td>N2_LRP012a-N105_LRP012a</td>\n",
       "      <td>N2-N105</td>\n",
       "      <td>2</td>\n",
       "    </tr>\n",
       "    <tr>\n",
       "      <th>6</th>\n",
       "      <td>23.228986</td>\n",
       "      <td>N2_LRP012b</td>\n",
       "      <td>N105_LRP012a</td>\n",
       "      <td>(23.7853886, 90.5688882)</td>\n",
       "      <td>(23.7851941, 90.5688049)</td>\n",
       "      <td>11.476</td>\n",
       "      <td>12.803</td>\n",
       "      <td>23.785389</td>\n",
       "      <td>90.568888</td>\n",
       "      <td>23.785194</td>\n",
       "      <td>90.568805</td>\n",
       "      <td>23.785291</td>\n",
       "      <td>90.568847</td>\n",
       "      <td>N2</td>\n",
       "      <td>N105</td>\n",
       "      <td>N2_LRP012b-N105_LRP012a</td>\n",
       "      <td>N2-N105</td>\n",
       "      <td>2</td>\n",
       "    </tr>\n",
       "    <tr>\n",
       "      <th>7</th>\n",
       "      <td>18.004838</td>\n",
       "      <td>N2_LRP117b</td>\n",
       "      <td>N204_LRPS</td>\n",
       "      <td>(24.1478608, 91.3464441)</td>\n",
       "      <td>(24.1479163, 91.3466108)</td>\n",
       "      <td>116.294</td>\n",
       "      <td>0.000</td>\n",
       "      <td>24.147861</td>\n",
       "      <td>91.346444</td>\n",
       "      <td>24.147916</td>\n",
       "      <td>91.346611</td>\n",
       "      <td>24.147889</td>\n",
       "      <td>91.346527</td>\n",
       "      <td>N2</td>\n",
       "      <td>N204</td>\n",
       "      <td>N2_LRP117b-N204_LRPS</td>\n",
       "      <td>N2-N204</td>\n",
       "      <td>1</td>\n",
       "    </tr>\n",
       "    <tr>\n",
       "      <th>8</th>\n",
       "      <td>22.890558</td>\n",
       "      <td>N2_LRP146b</td>\n",
       "      <td>N207_LRPS</td>\n",
       "      <td>(24.2947219, 91.5100833)</td>\n",
       "      <td>(24.2948608, 91.51025)</td>\n",
       "      <td>145.961</td>\n",
       "      <td>0.000</td>\n",
       "      <td>24.294722</td>\n",
       "      <td>91.510083</td>\n",
       "      <td>24.294861</td>\n",
       "      <td>91.510250</td>\n",
       "      <td>24.294791</td>\n",
       "      <td>91.510167</td>\n",
       "      <td>N2</td>\n",
       "      <td>N207</td>\n",
       "      <td>N2_LRP146b-N207_LRPS</td>\n",
       "      <td>N2-N207</td>\n",
       "      <td>2</td>\n",
       "    </tr>\n",
       "    <tr>\n",
       "      <th>9</th>\n",
       "      <td>18.737016</td>\n",
       "      <td>N2_LRP191b</td>\n",
       "      <td>N207_LRPE</td>\n",
       "      <td>(24.6264993, 91.6774993)</td>\n",
       "      <td>(24.6263327, 91.6775271)</td>\n",
       "      <td>190.892</td>\n",
       "      <td>67.985</td>\n",
       "      <td>24.626499</td>\n",
       "      <td>91.677499</td>\n",
       "      <td>24.626333</td>\n",
       "      <td>91.677527</td>\n",
       "      <td>24.626416</td>\n",
       "      <td>91.677513</td>\n",
       "      <td>N2</td>\n",
       "      <td>N207</td>\n",
       "      <td>N2_LRP191b-N207_LRPE</td>\n",
       "      <td>N2-N207</td>\n",
       "      <td>2</td>\n",
       "    </tr>\n",
       "    <tr>\n",
       "      <th>10</th>\n",
       "      <td>17.582929</td>\n",
       "      <td>N2_LRP228c</td>\n",
       "      <td>N208_LRPE</td>\n",
       "      <td>(24.8776938, 91.8752771)</td>\n",
       "      <td>(24.8775549, 91.8753604)</td>\n",
       "      <td>227.756</td>\n",
       "      <td>57.495</td>\n",
       "      <td>24.877694</td>\n",
       "      <td>91.875277</td>\n",
       "      <td>24.877555</td>\n",
       "      <td>91.875360</td>\n",
       "      <td>24.877624</td>\n",
       "      <td>91.875319</td>\n",
       "      <td>N2</td>\n",
       "      <td>N208</td>\n",
       "      <td>N2_LRP228c-N208_LRPE</td>\n",
       "      <td>N2-N208</td>\n",
       "      <td>1</td>\n",
       "    </tr>\n",
       "  </tbody>\n",
       "</table>\n",
       "</div>"
      ],
      "text/plain": [
       "     distance from_road_point to_road_point    from_road_point_coords  \\\n",
       "0   20.374160      N1_LRP009a       N2_LRPS  (23.7060833, 90.5215271)   \n",
       "1   19.836828       N1_LRP084     N102_LRPS  (23.4789716, 91.1179993)   \n",
       "2    2.835290      N1_LRP084a     N102_LRPS   (23.4789716, 91.118166)   \n",
       "3    9.078352      N1_LRP148a  N104_LRP001a  (23.0095556, 91.3813604)   \n",
       "4    2.830725      N1_LRP012c     N105_LRPS   (23.6904163, 90.546583)   \n",
       "5   29.759391      N2_LRP012a  N105_LRP012a   (23.785333, 90.5685549)   \n",
       "6   23.228986      N2_LRP012b  N105_LRP012a  (23.7853886, 90.5688882)   \n",
       "7   18.004838      N2_LRP117b     N204_LRPS  (24.1478608, 91.3464441)   \n",
       "8   22.890558      N2_LRP146b     N207_LRPS  (24.2947219, 91.5100833)   \n",
       "9   18.737016      N2_LRP191b     N207_LRPE  (24.6264993, 91.6774993)   \n",
       "10  17.582929      N2_LRP228c     N208_LRPE  (24.8776938, 91.8752771)   \n",
       "\n",
       "        to_road_point_coords  from_road_point_chainage  \\\n",
       "0   (23.7059167, 90.5214438)                     8.763   \n",
       "1   (23.4789716, 91.1181938)                    81.829   \n",
       "2   (23.4789716, 91.1181938)                    81.846   \n",
       "3   (23.0095278, 91.3814438)                   145.409   \n",
       "4   (23.6904163, 90.5466108)                    11.936   \n",
       "5   (23.7851941, 90.5688049)                    11.464   \n",
       "6   (23.7851941, 90.5688049)                    11.476   \n",
       "7   (24.1479163, 91.3466108)                   116.294   \n",
       "8     (24.2948608, 91.51025)                   145.961   \n",
       "9   (24.6263327, 91.6775271)                   190.892   \n",
       "10  (24.8775549, 91.8753604)                   227.756   \n",
       "\n",
       "    to_road_point_chainage  from_road_point_lat  from_road_point_lon  \\\n",
       "0                    0.000            23.706083            90.521527   \n",
       "1                    0.000            23.478972            91.117999   \n",
       "2                    0.000            23.478972            91.118166   \n",
       "3                    1.878            23.009556            91.381360   \n",
       "4                    0.000            23.690416            90.546583   \n",
       "5                   12.803            23.785333            90.568555   \n",
       "6                   12.803            23.785389            90.568888   \n",
       "7                    0.000            24.147861            91.346444   \n",
       "8                    0.000            24.294722            91.510083   \n",
       "9                   67.985            24.626499            91.677499   \n",
       "10                  57.495            24.877694            91.875277   \n",
       "\n",
       "    to_road_point_lat  to_road_point_lon  intersection_lat  intersection_lon  \\\n",
       "0           23.705917          90.521444         23.706000         90.521485   \n",
       "1           23.478972          91.118194         23.478972         91.118097   \n",
       "2           23.478972          91.118194         23.478972         91.118180   \n",
       "3           23.009528          91.381444         23.009542         91.381402   \n",
       "4           23.690416          90.546611         23.690416         90.546597   \n",
       "5           23.785194          90.568805         23.785264         90.568680   \n",
       "6           23.785194          90.568805         23.785291         90.568847   \n",
       "7           24.147916          91.346611         24.147889         91.346527   \n",
       "8           24.294861          91.510250         24.294791         91.510167   \n",
       "9           24.626333          91.677527         24.626416         91.677513   \n",
       "10          24.877555          91.875360         24.877624         91.875319   \n",
       "\n",
       "   from_road to_road                       id from_road_to_road  Counts  \n",
       "0         N1      N2       N1_LRP009a-N2_LRPS             N1-N2       1  \n",
       "1         N1    N102      N1_LRP084-N102_LRPS           N1-N102       2  \n",
       "2         N1    N102     N1_LRP084a-N102_LRPS           N1-N102       2  \n",
       "3         N1    N104  N1_LRP148a-N104_LRP001a           N1-N104       1  \n",
       "4         N1    N105     N1_LRP012c-N105_LRPS           N1-N105       1  \n",
       "5         N2    N105  N2_LRP012a-N105_LRP012a           N2-N105       2  \n",
       "6         N2    N105  N2_LRP012b-N105_LRP012a           N2-N105       2  \n",
       "7         N2    N204     N2_LRP117b-N204_LRPS           N2-N204       1  \n",
       "8         N2    N207     N2_LRP146b-N207_LRPS           N2-N207       2  \n",
       "9         N2    N207     N2_LRP191b-N207_LRPE           N2-N207       2  \n",
       "10        N2    N208     N2_LRP228c-N208_LRPE           N2-N208       1  "
      ]
     },
     "execution_count": 29,
     "metadata": {},
     "output_type": "execute_result"
    }
   ],
   "source": [
    "intersection_columns = ['distance', 'from_road_point','to_road_point','from_road_point_coords', 'to_road_point_coords','from_road_point_chainage',\n",
    "'to_road_point_chainage','from_road_point_lat','from_road_point_lon','to_road_point_lat','to_road_point_lon']\n",
    "\n",
    "intersection_df_full = pd.DataFrame.from_dict(intersections_dict_aggregated,orient='index')\n",
    "intersection_df_full = intersection_df_full.reset_index()\n",
    "intersection_df_full = intersection_df_full.set_axis(intersection_columns, axis=1)\n",
    "intersection_df_full[\"intersection_lat\"] = (intersection_df_full[\"from_road_point_lat\"] + intersection_df_full[\"to_road_point_lat\"]) / 2 # estimating lat of the intersection\n",
    "intersection_df_full[\"intersection_lon\"] = (intersection_df_full[\"from_road_point_lon\"] + intersection_df_full[\"to_road_point_lon\"]) / 2 # estimating long of the intersection\n",
    "intersection_df_full[\"from_road\"] = intersection_df_full['from_road_point'].str.split('_').str[0]\n",
    "intersection_df_full[\"to_road\"] = intersection_df_full['to_road_point'].str.split('_').str[0]\n",
    "intersection_df_full['id'] = intersection_df_full[['from_road_point', 'to_road_point']].agg('-'.join, axis=1)\n",
    "intersection_df_full['from_road_to_road'] = intersection_df_full[['from_road', 'to_road']].agg('-'.join, axis=1)\n",
    "intersection_df_full['Counts'] = intersection_df_full.groupby(['from_road_to_road'])['id'].transform('count')\n",
    "\n",
    "\n",
    "intersection_df_full"
   ]
  },
  {
   "cell_type": "code",
   "execution_count": 30,
   "metadata": {},
   "outputs": [],
   "source": [
    "# separating the resulting dataframe into 2 (one with just one intersection between road i and road j and another with multiple intersections between road i and road j)\n",
    "# the cases with only 1 intersection between roads don't have to be treater, but the cases with 2 we have to further analyse\n",
    "intersection_df_full_single = intersection_df_full.loc[(intersection_df_full.Counts == 1)] \n",
    "\n",
    "intersection_df_full_multiple = intersection_df_full.loc[(intersection_df_full.Counts > 1)] \n",
    "intersection_df_full_multiple = intersection_df_full_multiple.sort_values(by='from_road_to_road', ascending=True)\n",
    "\n",
    "\n",
    "# For the cases with more than one intersection between road i and road j we will check the following:\n",
    "# 1) if the value in the column from_road_to_road is equal, it means that the rows have more than one intersection that met the threshold used above (for example: N1-N102 for more than one column)\n",
    "# 2) get the chainage value for each from_road and calculate the distance between them\n",
    "# 3) if the distance between the chainages if less than or equal to the threshold_between_chainages, then it means that these two points are still part of the same intersection,\n",
    "# and we will consider the smallest distance on the first column (computed before) to select just one intersection (otherwise we could have two intersections quite close)\n",
    "# 4) if the distance between the chainages is bigger than threshold_between_chainages, then we will consider both intersections (this might be the clase where two roads might have more than one intersection\n",
    "# and still be correct)\n",
    "\n",
    "threshold_between_chainages = 1 # this value will be used to compare the distance between chainages in case of more than one intersection found for the same pair of roads (i,j)\n",
    "distance_to_consider = []\n",
    "distance_above_threshold = []\n",
    "list_from_road_to_road = intersection_df_full_multiple['from_road_to_road'].copy() # getting the values from column into list to be iterated\n",
    "\n",
    "\n",
    "for a, b in itertools.combinations(list_from_road_to_road, 2):\n",
    "    if a == b: # check if the values are the same (for example N1-N102 and N1-N102)\n",
    "\n",
    "        chainage_1 = intersection_df_full_multiple[intersection_df_full_multiple['from_road_to_road']==a]['from_road_point_chainage'].values[0] # returning chainage value for first point\n",
    "        chainage_2 = intersection_df_full_multiple[intersection_df_full_multiple['from_road_to_road']==b]['from_road_point_chainage'].values[1] # returning chainage value for second point\n",
    "        distance_between_chainages = abs(chainage_1 - chainage_2) # calculating distance between chainages\n",
    "\n",
    "        if distance_between_chainages <= threshold_between_chainages: # checking if distance meets threshold\n",
    "            distance_1 = intersection_df_full_multiple[intersection_df_full_multiple['from_road_to_road']==a]['distance'].values[0] # returning distance value for first point\n",
    "            distance_2 = intersection_df_full_multiple[intersection_df_full_multiple['from_road_to_road']==b]['distance'].values[1] # returning distance value for second point\n",
    "            smallest_distance = min(distance_1,distance_2) # getting smallest distance between both\n",
    "            distance_to_consider.append(smallest_distance) # appending list with only the smallest distance\n",
    "\n",
    "        else:\n",
    "            distance_3 = intersection_df_full_multiple[intersection_df_full_multiple['from_road_to_road']==a]['distance'].values[0] # returning distance value for first point\n",
    "            distance_4 = intersection_df_full_multiple[intersection_df_full_multiple['from_road_to_road']==b]['distance'].values[1] # returning distance value for second point\n",
    "            distance_above_threshold.append(distance_3) # appending list with original distance (does not meet threshold, so we should keep)\n",
    "            distance_above_threshold.append(distance_4) # appending list with original distance (does not meet threshold, so we should keep)\n",
    "\n",
    "\n",
    "# the final list is composed of the original values that where considered to be correct (distance_above_threshold) and the values where we selected the smallest distance (distance_to_consider)\n",
    "final_list_multiple_intersections = distance_above_threshold + distance_to_consider\n"
   ]
  },
  {
   "cell_type": "code",
   "execution_count": 31,
   "metadata": {},
   "outputs": [
    {
     "data": {
      "text/html": [
       "<div>\n",
       "<style scoped>\n",
       "    .dataframe tbody tr th:only-of-type {\n",
       "        vertical-align: middle;\n",
       "    }\n",
       "\n",
       "    .dataframe tbody tr th {\n",
       "        vertical-align: top;\n",
       "    }\n",
       "\n",
       "    .dataframe thead th {\n",
       "        text-align: right;\n",
       "    }\n",
       "</style>\n",
       "<table border=\"1\" class=\"dataframe\">\n",
       "  <thead>\n",
       "    <tr style=\"text-align: right;\">\n",
       "      <th></th>\n",
       "      <th>distance</th>\n",
       "      <th>from_road_point</th>\n",
       "      <th>to_road_point</th>\n",
       "      <th>from_road_point_coords</th>\n",
       "      <th>to_road_point_coords</th>\n",
       "      <th>from_road_point_chainage</th>\n",
       "      <th>to_road_point_chainage</th>\n",
       "      <th>from_road_point_lat</th>\n",
       "      <th>from_road_point_lon</th>\n",
       "      <th>to_road_point_lat</th>\n",
       "      <th>to_road_point_lon</th>\n",
       "      <th>intersection_lat</th>\n",
       "      <th>intersection_lon</th>\n",
       "      <th>from_road</th>\n",
       "      <th>to_road</th>\n",
       "      <th>id</th>\n",
       "      <th>from_road_to_road</th>\n",
       "      <th>Counts</th>\n",
       "    </tr>\n",
       "  </thead>\n",
       "  <tbody>\n",
       "    <tr>\n",
       "      <th>2</th>\n",
       "      <td>2.835290</td>\n",
       "      <td>N1_LRP084a</td>\n",
       "      <td>N102_LRPS</td>\n",
       "      <td>(23.4789716, 91.118166)</td>\n",
       "      <td>(23.4789716, 91.1181938)</td>\n",
       "      <td>81.846</td>\n",
       "      <td>0.000</td>\n",
       "      <td>23.478972</td>\n",
       "      <td>91.118166</td>\n",
       "      <td>23.478972</td>\n",
       "      <td>91.118194</td>\n",
       "      <td>23.478972</td>\n",
       "      <td>91.118180</td>\n",
       "      <td>N1</td>\n",
       "      <td>N102</td>\n",
       "      <td>N1_LRP084a-N102_LRPS</td>\n",
       "      <td>N1-N102</td>\n",
       "      <td>2</td>\n",
       "    </tr>\n",
       "    <tr>\n",
       "      <th>6</th>\n",
       "      <td>23.228986</td>\n",
       "      <td>N2_LRP012b</td>\n",
       "      <td>N105_LRP012a</td>\n",
       "      <td>(23.7853886, 90.5688882)</td>\n",
       "      <td>(23.7851941, 90.5688049)</td>\n",
       "      <td>11.476</td>\n",
       "      <td>12.803</td>\n",
       "      <td>23.785389</td>\n",
       "      <td>90.568888</td>\n",
       "      <td>23.785194</td>\n",
       "      <td>90.568805</td>\n",
       "      <td>23.785291</td>\n",
       "      <td>90.568847</td>\n",
       "      <td>N2</td>\n",
       "      <td>N105</td>\n",
       "      <td>N2_LRP012b-N105_LRP012a</td>\n",
       "      <td>N2-N105</td>\n",
       "      <td>2</td>\n",
       "    </tr>\n",
       "    <tr>\n",
       "      <th>8</th>\n",
       "      <td>22.890558</td>\n",
       "      <td>N2_LRP146b</td>\n",
       "      <td>N207_LRPS</td>\n",
       "      <td>(24.2947219, 91.5100833)</td>\n",
       "      <td>(24.2948608, 91.51025)</td>\n",
       "      <td>145.961</td>\n",
       "      <td>0.000</td>\n",
       "      <td>24.294722</td>\n",
       "      <td>91.510083</td>\n",
       "      <td>24.294861</td>\n",
       "      <td>91.510250</td>\n",
       "      <td>24.294791</td>\n",
       "      <td>91.510167</td>\n",
       "      <td>N2</td>\n",
       "      <td>N207</td>\n",
       "      <td>N2_LRP146b-N207_LRPS</td>\n",
       "      <td>N2-N207</td>\n",
       "      <td>2</td>\n",
       "    </tr>\n",
       "    <tr>\n",
       "      <th>9</th>\n",
       "      <td>18.737016</td>\n",
       "      <td>N2_LRP191b</td>\n",
       "      <td>N207_LRPE</td>\n",
       "      <td>(24.6264993, 91.6774993)</td>\n",
       "      <td>(24.6263327, 91.6775271)</td>\n",
       "      <td>190.892</td>\n",
       "      <td>67.985</td>\n",
       "      <td>24.626499</td>\n",
       "      <td>91.677499</td>\n",
       "      <td>24.626333</td>\n",
       "      <td>91.677527</td>\n",
       "      <td>24.626416</td>\n",
       "      <td>91.677513</td>\n",
       "      <td>N2</td>\n",
       "      <td>N207</td>\n",
       "      <td>N2_LRP191b-N207_LRPE</td>\n",
       "      <td>N2-N207</td>\n",
       "      <td>2</td>\n",
       "    </tr>\n",
       "  </tbody>\n",
       "</table>\n",
       "</div>"
      ],
      "text/plain": [
       "    distance from_road_point to_road_point    from_road_point_coords  \\\n",
       "2   2.835290      N1_LRP084a     N102_LRPS   (23.4789716, 91.118166)   \n",
       "6  23.228986      N2_LRP012b  N105_LRP012a  (23.7853886, 90.5688882)   \n",
       "8  22.890558      N2_LRP146b     N207_LRPS  (24.2947219, 91.5100833)   \n",
       "9  18.737016      N2_LRP191b     N207_LRPE  (24.6264993, 91.6774993)   \n",
       "\n",
       "       to_road_point_coords  from_road_point_chainage  to_road_point_chainage  \\\n",
       "2  (23.4789716, 91.1181938)                    81.846                   0.000   \n",
       "6  (23.7851941, 90.5688049)                    11.476                  12.803   \n",
       "8    (24.2948608, 91.51025)                   145.961                   0.000   \n",
       "9  (24.6263327, 91.6775271)                   190.892                  67.985   \n",
       "\n",
       "   from_road_point_lat  from_road_point_lon  to_road_point_lat  \\\n",
       "2            23.478972            91.118166          23.478972   \n",
       "6            23.785389            90.568888          23.785194   \n",
       "8            24.294722            91.510083          24.294861   \n",
       "9            24.626499            91.677499          24.626333   \n",
       "\n",
       "   to_road_point_lon  intersection_lat  intersection_lon from_road to_road  \\\n",
       "2          91.118194         23.478972         91.118180        N1    N102   \n",
       "6          90.568805         23.785291         90.568847        N2    N105   \n",
       "8          91.510250         24.294791         91.510167        N2    N207   \n",
       "9          91.677527         24.626416         91.677513        N2    N207   \n",
       "\n",
       "                        id from_road_to_road  Counts  \n",
       "2     N1_LRP084a-N102_LRPS           N1-N102       2  \n",
       "6  N2_LRP012b-N105_LRP012a           N2-N105       2  \n",
       "8     N2_LRP146b-N207_LRPS           N2-N207       2  \n",
       "9     N2_LRP191b-N207_LRPE           N2-N207       2  "
      ]
     },
     "execution_count": 31,
     "metadata": {},
     "output_type": "execute_result"
    }
   ],
   "source": [
    "# the corrected dataframe with multiple intersections \n",
    "\n",
    "intersection_df_full_multiple_adj = intersection_df_full_multiple[intersection_df_full_multiple['distance'].isin(final_list_multiple_intersections)]\n",
    "intersection_df_full_multiple_adj"
   ]
  },
  {
   "cell_type": "code",
   "execution_count": 32,
   "metadata": {},
   "outputs": [
    {
     "data": {
      "text/plain": [
       "(9, 18)"
      ]
     },
     "execution_count": 32,
     "metadata": {},
     "output_type": "execute_result"
    }
   ],
   "source": [
    "# the final dataframe is then composed of the dataframe with just one intersection (intersection_df_full_single), which was already correct, and the adjusted\n",
    "# dataframe with multiple intersections (intersection_df_full_multiple_adj)\n",
    "\n",
    "intersection_df_full_adj = intersection_df_full_single.append(intersection_df_full_multiple_adj)\n",
    "intersection_df_full_adj.shape"
   ]
  },
  {
   "cell_type": "code",
   "execution_count": 33,
   "metadata": {},
   "outputs": [],
   "source": [
    "# now we can drop unnecessary columns and format the final dataframe of intersections\n",
    "# for simplicity, we will separate the dataframe in 2, one for the from_road and other for the to_road\n",
    "# this is needed because every intersection has to be placed on both datasets. Later on we will merge them together in the final dataframe of intersections\n",
    "\n",
    "cols_interest_from = [\"from_road_point_chainage\",\"intersection_lat\", \"intersection_lon\", \"from_road\",\"id\"]\n",
    "cols_interest_to = [\"to_road_point_chainage\", \"intersection_lat\", \"intersection_lon\",\"to_road\",\"id\"]\n",
    "final_columns = ['chainage','lat','lon','road','id']\n",
    "\n",
    "intersection_df_from = intersection_df_full_adj[cols_interest_from].copy()\n",
    "intersection_df_from = intersection_df_from.set_axis(final_columns, axis=1)\n",
    "\n",
    "intersection_df_to = intersection_df_full_adj[cols_interest_to].copy()\n",
    "intersection_df_to = intersection_df_to.set_axis(final_columns, axis=1)\n",
    "\n"
   ]
  },
  {
   "cell_type": "code",
   "execution_count": 34,
   "metadata": {},
   "outputs": [
    {
     "data": {
      "text/html": [
       "<div>\n",
       "<style scoped>\n",
       "    .dataframe tbody tr th:only-of-type {\n",
       "        vertical-align: middle;\n",
       "    }\n",
       "\n",
       "    .dataframe tbody tr th {\n",
       "        vertical-align: top;\n",
       "    }\n",
       "\n",
       "    .dataframe thead th {\n",
       "        text-align: right;\n",
       "    }\n",
       "</style>\n",
       "<table border=\"1\" class=\"dataframe\">\n",
       "  <thead>\n",
       "    <tr style=\"text-align: right;\">\n",
       "      <th></th>\n",
       "      <th>road</th>\n",
       "      <th>id</th>\n",
       "      <th>model_type</th>\n",
       "      <th>condition</th>\n",
       "      <th>name</th>\n",
       "      <th>lat</th>\n",
       "      <th>lon</th>\n",
       "      <th>length</th>\n",
       "      <th>chainage</th>\n",
       "    </tr>\n",
       "  </thead>\n",
       "  <tbody>\n",
       "    <tr>\n",
       "      <th>0</th>\n",
       "      <td>N1</td>\n",
       "      <td>N1_LRP009a-N2_LRPS</td>\n",
       "      <td>intersection</td>\n",
       "      <td>NaN</td>\n",
       "      <td></td>\n",
       "      <td>23.706000</td>\n",
       "      <td>90.521485</td>\n",
       "      <td></td>\n",
       "      <td>8.763</td>\n",
       "    </tr>\n",
       "    <tr>\n",
       "      <th>1</th>\n",
       "      <td>N2</td>\n",
       "      <td>N1_LRP009a-N2_LRPS</td>\n",
       "      <td>intersection</td>\n",
       "      <td>NaN</td>\n",
       "      <td></td>\n",
       "      <td>23.706000</td>\n",
       "      <td>90.521485</td>\n",
       "      <td></td>\n",
       "      <td>0.000</td>\n",
       "    </tr>\n",
       "    <tr>\n",
       "      <th>2</th>\n",
       "      <td>N1</td>\n",
       "      <td>N1_LRP012c-N105_LRPS</td>\n",
       "      <td>intersection</td>\n",
       "      <td>NaN</td>\n",
       "      <td></td>\n",
       "      <td>23.690416</td>\n",
       "      <td>90.546597</td>\n",
       "      <td></td>\n",
       "      <td>11.936</td>\n",
       "    </tr>\n",
       "    <tr>\n",
       "      <th>3</th>\n",
       "      <td>N105</td>\n",
       "      <td>N1_LRP012c-N105_LRPS</td>\n",
       "      <td>intersection</td>\n",
       "      <td>NaN</td>\n",
       "      <td></td>\n",
       "      <td>23.690416</td>\n",
       "      <td>90.546597</td>\n",
       "      <td></td>\n",
       "      <td>0.000</td>\n",
       "    </tr>\n",
       "    <tr>\n",
       "      <th>4</th>\n",
       "      <td>N1</td>\n",
       "      <td>N1_LRP084a-N102_LRPS</td>\n",
       "      <td>intersection</td>\n",
       "      <td>NaN</td>\n",
       "      <td></td>\n",
       "      <td>23.478972</td>\n",
       "      <td>91.118180</td>\n",
       "      <td></td>\n",
       "      <td>81.846</td>\n",
       "    </tr>\n",
       "    <tr>\n",
       "      <th>5</th>\n",
       "      <td>N102</td>\n",
       "      <td>N1_LRP084a-N102_LRPS</td>\n",
       "      <td>intersection</td>\n",
       "      <td>NaN</td>\n",
       "      <td></td>\n",
       "      <td>23.478972</td>\n",
       "      <td>91.118180</td>\n",
       "      <td></td>\n",
       "      <td>0.000</td>\n",
       "    </tr>\n",
       "    <tr>\n",
       "      <th>6</th>\n",
       "      <td>N1</td>\n",
       "      <td>N1_LRP148a-N104_LRP001a</td>\n",
       "      <td>intersection</td>\n",
       "      <td>NaN</td>\n",
       "      <td></td>\n",
       "      <td>23.009542</td>\n",
       "      <td>91.381402</td>\n",
       "      <td></td>\n",
       "      <td>145.409</td>\n",
       "    </tr>\n",
       "    <tr>\n",
       "      <th>7</th>\n",
       "      <td>N104</td>\n",
       "      <td>N1_LRP148a-N104_LRP001a</td>\n",
       "      <td>intersection</td>\n",
       "      <td>NaN</td>\n",
       "      <td></td>\n",
       "      <td>23.009542</td>\n",
       "      <td>91.381402</td>\n",
       "      <td></td>\n",
       "      <td>1.878</td>\n",
       "    </tr>\n",
       "    <tr>\n",
       "      <th>8</th>\n",
       "      <td>N105</td>\n",
       "      <td>N2_LRP012b-N105_LRP012a</td>\n",
       "      <td>intersection</td>\n",
       "      <td>NaN</td>\n",
       "      <td></td>\n",
       "      <td>23.785291</td>\n",
       "      <td>90.568847</td>\n",
       "      <td></td>\n",
       "      <td>12.803</td>\n",
       "    </tr>\n",
       "    <tr>\n",
       "      <th>9</th>\n",
       "      <td>N2</td>\n",
       "      <td>N2_LRP012b-N105_LRP012a</td>\n",
       "      <td>intersection</td>\n",
       "      <td>NaN</td>\n",
       "      <td></td>\n",
       "      <td>23.785291</td>\n",
       "      <td>90.568847</td>\n",
       "      <td></td>\n",
       "      <td>11.476</td>\n",
       "    </tr>\n",
       "  </tbody>\n",
       "</table>\n",
       "</div>"
      ],
      "text/plain": [
       "   road                       id    model_type  condition name        lat  \\\n",
       "0    N1       N1_LRP009a-N2_LRPS  intersection        NaN       23.706000   \n",
       "1    N2       N1_LRP009a-N2_LRPS  intersection        NaN       23.706000   \n",
       "2    N1     N1_LRP012c-N105_LRPS  intersection        NaN       23.690416   \n",
       "3  N105     N1_LRP012c-N105_LRPS  intersection        NaN       23.690416   \n",
       "4    N1     N1_LRP084a-N102_LRPS  intersection        NaN       23.478972   \n",
       "5  N102     N1_LRP084a-N102_LRPS  intersection        NaN       23.478972   \n",
       "6    N1  N1_LRP148a-N104_LRP001a  intersection        NaN       23.009542   \n",
       "7  N104  N1_LRP148a-N104_LRP001a  intersection        NaN       23.009542   \n",
       "8  N105  N2_LRP012b-N105_LRP012a  intersection        NaN       23.785291   \n",
       "9    N2  N2_LRP012b-N105_LRP012a  intersection        NaN       23.785291   \n",
       "\n",
       "         lon length  chainage  \n",
       "0  90.521485            8.763  \n",
       "1  90.521485            0.000  \n",
       "2  90.546597           11.936  \n",
       "3  90.546597            0.000  \n",
       "4  91.118180           81.846  \n",
       "5  91.118180            0.000  \n",
       "6  91.381402          145.409  \n",
       "7  91.381402            1.878  \n",
       "8  90.568847           12.803  \n",
       "9  90.568847           11.476  "
      ]
     },
     "execution_count": 34,
     "metadata": {},
     "output_type": "execute_result"
    }
   ],
   "source": [
    "# putting together the final dataframe of intersections\n",
    "\n",
    "intersection_to_be_merged = intersection_df_from.append(intersection_df_to)\n",
    "intersection_to_be_merged.insert(0,'name','')\n",
    "intersection_to_be_merged.insert(0,'length','')\n",
    "intersection_to_be_merged.insert(0,'model_type','intersection')\n",
    "intersection_to_be_merged.insert(0,'condition','')\n",
    "intersection_to_be_merged['condition'] = np.NaN\n",
    "columns_right_order = ['road','id','model_type','condition','name','lat','lon','length','chainage']\n",
    "\n",
    "\n",
    "intersection_to_be_merged = intersection_to_be_merged.reindex(columns=columns_right_order)\n",
    "intersection_to_be_merged = intersection_to_be_merged.sort_values(by='id', ascending=True)\n",
    "intersection_to_be_merged = intersection_to_be_merged.set_index(\"road\")\n",
    "intersection_to_be_merged = intersection_to_be_merged.reset_index()\n",
    "intersection_to_be_merged.head(10)\n"
   ]
  },
  {
   "cell_type": "code",
   "execution_count": 35,
   "metadata": {},
   "outputs": [
    {
     "data": {
      "text/plain": [
       "(18, 9)"
      ]
     },
     "execution_count": 35,
     "metadata": {},
     "output_type": "execute_result"
    }
   ],
   "source": [
    "intersection_to_be_merged.shape"
   ]
  },
  {
   "cell_type": "markdown",
   "metadata": {},
   "source": [
    "Let's see the roads that were found to be intersecting with N1 and N2 based on our analysis."
   ]
  },
  {
   "cell_type": "code",
   "execution_count": 36,
   "metadata": {},
   "outputs": [
    {
     "data": {
      "text/plain": [
       "array(['N1', 'N2', 'N105', 'N102', 'N104', 'N204', 'N207', 'N208'],\n",
       "      dtype=object)"
      ]
     },
     "execution_count": 36,
     "metadata": {},
     "output_type": "execute_result"
    }
   ],
   "source": [
    "intersection_to_be_merged.road.unique()"
   ]
  },
  {
   "cell_type": "markdown",
   "metadata": {},
   "source": [
    "We might realize that this list is shorter than our initial list of potential roads."
   ]
  },
  {
   "cell_type": "code",
   "execution_count": 37,
   "metadata": {},
   "outputs": [
    {
     "data": {
      "text/plain": [
       "array(['N1', 'N2', 'N102', 'N104', 'N105', 'N106', 'N204', 'N207', 'N208',\n",
       "       'N8', 'N809'], dtype='<U4')"
      ]
     },
     "execution_count": 37,
     "metadata": {},
     "output_type": "execute_result"
    }
   ],
   "source": [
    "list_to_keep"
   ]
  },
  {
   "cell_type": "markdown",
   "metadata": {},
   "source": [
    "We will need to update this list since some of the items were found to be disconnected."
   ]
  },
  {
   "cell_type": "code",
   "execution_count": 38,
   "metadata": {},
   "outputs": [],
   "source": [
    "list_to_keep = intersection_to_be_merged.road.unique()"
   ]
  },
  {
   "cell_type": "markdown",
   "metadata": {},
   "source": [
    "## Preparing Bridges data"
   ]
  },
  {
   "cell_type": "markdown",
   "metadata": {},
   "source": [
    "First, let's filter our data based on roads of interest."
   ]
  },
  {
   "cell_type": "code",
   "execution_count": 39,
   "metadata": {},
   "outputs": [
    {
     "name": "stdout",
     "output_type": "stream",
     "text": [
      "Initially, there were 4322 bridges\n",
      "After the elimination based on road filtering, there are 1995 bridges left.\n"
     ]
    }
   ],
   "source": [
    "print(\"Initially, there were\", len(bridges), \"bridges\")\n",
    "# eliminate based on list_to_keep\n",
    "bridges = bridges[bridges[\"road\"].str.contains('|'.join(list_to_keep))==True]\n",
    "print(\"After the elimination based on road filtering,\",\n",
    "      \"there are\", len(bridges), \"bridges left.\")"
   ]
  },
  {
   "cell_type": "markdown",
   "metadata": {},
   "source": [
    "In our previous assignment, we realized that there were duplicates. We will drop the duplicates by considering their lat, lon values. To determine which entry to keep, we look at the structure number as a indicator of the newest entry. Thus if a duplicate of a bridge has a higher structure number it will be kept. "
   ]
  },
  {
   "cell_type": "code",
   "execution_count": 40,
   "metadata": {},
   "outputs": [
    {
     "name": "stdout",
     "output_type": "stream",
     "text": [
      "There are 1995 rows in our bridge data.\n"
     ]
    }
   ],
   "source": [
    "bridges.sort_values(by = [\"structureNr\"], ascending = False)\n",
    "print(\"There are\", len(bridges), \"rows in our bridge data.\")"
   ]
  },
  {
   "cell_type": "code",
   "execution_count": 41,
   "metadata": {},
   "outputs": [
    {
     "name": "stdout",
     "output_type": "stream",
     "text": [
      "After the elimination of duplicates, there are 1049 rows left.\n"
     ]
    }
   ],
   "source": [
    "bridges = bridges.drop_duplicates(subset=['lat', 'lon'], keep='first')\n",
    "bridges = bridges.drop_duplicates(subset=['LRPName'], keep='first')\n",
    "bridges = bridges.reset_index(drop = True)\n",
    "print(\"After the elimination of duplicates,\",\n",
    "      \"there are\", len(bridges), \"rows left.\")"
   ]
  },
  {
   "cell_type": "markdown",
   "metadata": {},
   "source": [
    "We want to include Culverts and Bridges only, let's filter based on type as well."
   ]
  },
  {
   "cell_type": "code",
   "execution_count": 42,
   "metadata": {},
   "outputs": [
    {
     "name": "stdout",
     "output_type": "stream",
     "text": [
      "After the elimination of other types, there are 985 rows left.\n"
     ]
    }
   ],
   "source": [
    "bridges = bridges[bridges[\"type\"].str.contains(\"Culvert\") + bridges[\"type\"].str.contains(\"Bridge\") > 0]\n",
    "bridges = bridges.reset_index(drop = True)\n",
    "print(\"After the elimination of other types,\",\n",
    "      \"there are\", len(bridges), \"rows left.\")"
   ]
  },
  {
   "cell_type": "markdown",
   "metadata": {},
   "source": [
    "Let's observe how many entries there are per type."
   ]
  },
  {
   "cell_type": "code",
   "execution_count": 43,
   "metadata": {},
   "outputs": [
    {
     "data": {
      "text/plain": [
       "Box Culvert          685\n",
       "RCC Girder Bridge    147\n",
       "Slab Culvert          81\n",
       "PC Girder Bridge      64\n",
       "RCC Bridge             8\n",
       "Name: type, dtype: int64"
      ]
     },
     "execution_count": 43,
     "metadata": {},
     "output_type": "execute_result"
    }
   ],
   "source": [
    "bridges[\"type\"].value_counts()"
   ]
  },
  {
   "cell_type": "markdown",
   "metadata": {},
   "source": [
    "There are some fields that we are not interested in when creating the model. Let's drop their columns."
   ]
  },
  {
   "cell_type": "code",
   "execution_count": 44,
   "metadata": {},
   "outputs": [],
   "source": [
    "columns_to_delete = [\"km\",  \"structureNr\", \"roadName\",  \"width\", \"constructionYear\", \"spans\", \n",
    "                     \"zone\", \"circle\", \"division\", \"sub-division\",  \"EstimatedLoc\"]\n",
    "bridges = bridges.drop(columns = columns_to_delete)"
   ]
  },
  {
   "cell_type": "markdown",
   "metadata": {},
   "source": [
    "We also want to make the column names unified."
   ]
  },
  {
   "cell_type": "code",
   "execution_count": 45,
   "metadata": {},
   "outputs": [],
   "source": [
    "final_columns = ['road','model_type','id','name','length','condition','chainage','lat','lon']\n",
    "bridges = bridges.set_axis(final_columns, axis=1)"
   ]
  },
  {
   "cell_type": "markdown",
   "metadata": {},
   "source": [
    "And in the same order."
   ]
  },
  {
   "cell_type": "code",
   "execution_count": 46,
   "metadata": {},
   "outputs": [
    {
     "data": {
      "text/html": [
       "<div>\n",
       "<style scoped>\n",
       "    .dataframe tbody tr th:only-of-type {\n",
       "        vertical-align: middle;\n",
       "    }\n",
       "\n",
       "    .dataframe tbody tr th {\n",
       "        vertical-align: top;\n",
       "    }\n",
       "\n",
       "    .dataframe thead th {\n",
       "        text-align: right;\n",
       "    }\n",
       "</style>\n",
       "<table border=\"1\" class=\"dataframe\">\n",
       "  <thead>\n",
       "    <tr style=\"text-align: right;\">\n",
       "      <th></th>\n",
       "      <th>road</th>\n",
       "      <th>id</th>\n",
       "      <th>model_type</th>\n",
       "      <th>condition</th>\n",
       "      <th>name</th>\n",
       "      <th>lat</th>\n",
       "      <th>lon</th>\n",
       "      <th>length</th>\n",
       "      <th>chainage</th>\n",
       "    </tr>\n",
       "  </thead>\n",
       "  <tbody>\n",
       "    <tr>\n",
       "      <th>0</th>\n",
       "      <td>N1</td>\n",
       "      <td>N1_LRP001a</td>\n",
       "      <td>bridge</td>\n",
       "      <td>A</td>\n",
       "      <td>.</td>\n",
       "      <td>23.698739</td>\n",
       "      <td>90.458861</td>\n",
       "      <td>11.30</td>\n",
       "      <td>1.800</td>\n",
       "    </tr>\n",
       "    <tr>\n",
       "      <th>1</th>\n",
       "      <td>N1</td>\n",
       "      <td>N1_LRP004b</td>\n",
       "      <td>bridge</td>\n",
       "      <td>A</td>\n",
       "      <td>.</td>\n",
       "      <td>23.694664</td>\n",
       "      <td>90.487775</td>\n",
       "      <td>6.60</td>\n",
       "      <td>4.925</td>\n",
       "    </tr>\n",
       "    <tr>\n",
       "      <th>2</th>\n",
       "      <td>N1</td>\n",
       "      <td>N1_LRP008b</td>\n",
       "      <td>bridge</td>\n",
       "      <td>A</td>\n",
       "      <td>Kanch pur Bridge.</td>\n",
       "      <td>23.705060</td>\n",
       "      <td>90.523214</td>\n",
       "      <td>394.23</td>\n",
       "      <td>8.976</td>\n",
       "    </tr>\n",
       "    <tr>\n",
       "      <th>3</th>\n",
       "      <td>N1</td>\n",
       "      <td>N1_LRP010b</td>\n",
       "      <td>bridge</td>\n",
       "      <td>A</td>\n",
       "      <td>NOYAPARA CULVERT</td>\n",
       "      <td>23.694391</td>\n",
       "      <td>90.537574</td>\n",
       "      <td>6.30</td>\n",
       "      <td>10.880</td>\n",
       "    </tr>\n",
       "    <tr>\n",
       "      <th>4</th>\n",
       "      <td>N1</td>\n",
       "      <td>N1_LRP010c</td>\n",
       "      <td>bridge</td>\n",
       "      <td>A</td>\n",
       "      <td>ADUPUR CULVERT</td>\n",
       "      <td>23.694302</td>\n",
       "      <td>90.537707</td>\n",
       "      <td>6.30</td>\n",
       "      <td>10.897</td>\n",
       "    </tr>\n",
       "  </tbody>\n",
       "</table>\n",
       "</div>"
      ],
      "text/plain": [
       "  road          id model_type condition               name        lat  \\\n",
       "0   N1  N1_LRP001a     bridge         A                  .  23.698739   \n",
       "1   N1  N1_LRP004b     bridge         A                  .  23.694664   \n",
       "2   N1  N1_LRP008b     bridge         A  Kanch pur Bridge.  23.705060   \n",
       "3   N1  N1_LRP010b     bridge         A   NOYAPARA CULVERT  23.694391   \n",
       "4   N1  N1_LRP010c     bridge         A     ADUPUR CULVERT  23.694302   \n",
       "\n",
       "         lon  length  chainage  \n",
       "0  90.458861   11.30     1.800  \n",
       "1  90.487775    6.60     4.925  \n",
       "2  90.523214  394.23     8.976  \n",
       "3  90.537574    6.30    10.880  \n",
       "4  90.537707    6.30    10.897  "
      ]
     },
     "execution_count": 46,
     "metadata": {},
     "output_type": "execute_result"
    }
   ],
   "source": [
    "columns_right_order = ['road','id','model_type','condition','name','lat','lon','length','chainage']\n",
    "\n",
    "bridges = bridges.reindex(columns=columns_right_order)\n",
    "bridges['id'] = bridges[['road', 'id']].agg('_'.join, axis=1)\n",
    "bridges['model_type'] = \"bridge\"\n",
    "bridges.head()"
   ]
  },
  {
   "cell_type": "markdown",
   "metadata": {},
   "source": [
    "Lastly, we want to sort these values based on road and chainage."
   ]
  },
  {
   "cell_type": "code",
   "execution_count": 47,
   "metadata": {},
   "outputs": [
    {
     "data": {
      "text/html": [
       "<div>\n",
       "<style scoped>\n",
       "    .dataframe tbody tr th:only-of-type {\n",
       "        vertical-align: middle;\n",
       "    }\n",
       "\n",
       "    .dataframe tbody tr th {\n",
       "        vertical-align: top;\n",
       "    }\n",
       "\n",
       "    .dataframe thead th {\n",
       "        text-align: right;\n",
       "    }\n",
       "</style>\n",
       "<table border=\"1\" class=\"dataframe\">\n",
       "  <thead>\n",
       "    <tr style=\"text-align: right;\">\n",
       "      <th></th>\n",
       "      <th>road</th>\n",
       "      <th>id</th>\n",
       "      <th>model_type</th>\n",
       "      <th>condition</th>\n",
       "      <th>name</th>\n",
       "      <th>lat</th>\n",
       "      <th>lon</th>\n",
       "      <th>length</th>\n",
       "      <th>chainage</th>\n",
       "    </tr>\n",
       "  </thead>\n",
       "  <tbody>\n",
       "    <tr>\n",
       "      <th>0</th>\n",
       "      <td>N1</td>\n",
       "      <td>N1_LRP001a</td>\n",
       "      <td>bridge</td>\n",
       "      <td>A</td>\n",
       "      <td>.</td>\n",
       "      <td>23.698739</td>\n",
       "      <td>90.458861</td>\n",
       "      <td>11.30</td>\n",
       "      <td>1.800</td>\n",
       "    </tr>\n",
       "    <tr>\n",
       "      <th>1</th>\n",
       "      <td>N1</td>\n",
       "      <td>N1_LRP004b</td>\n",
       "      <td>bridge</td>\n",
       "      <td>A</td>\n",
       "      <td>.</td>\n",
       "      <td>23.694664</td>\n",
       "      <td>90.487775</td>\n",
       "      <td>6.60</td>\n",
       "      <td>4.925</td>\n",
       "    </tr>\n",
       "    <tr>\n",
       "      <th>2</th>\n",
       "      <td>N1</td>\n",
       "      <td>N1_LRP008b</td>\n",
       "      <td>bridge</td>\n",
       "      <td>A</td>\n",
       "      <td>Kanch pur Bridge.</td>\n",
       "      <td>23.705060</td>\n",
       "      <td>90.523214</td>\n",
       "      <td>394.23</td>\n",
       "      <td>8.976</td>\n",
       "    </tr>\n",
       "    <tr>\n",
       "      <th>3</th>\n",
       "      <td>N1</td>\n",
       "      <td>N1_LRP010b</td>\n",
       "      <td>bridge</td>\n",
       "      <td>A</td>\n",
       "      <td>NOYAPARA CULVERT</td>\n",
       "      <td>23.694391</td>\n",
       "      <td>90.537574</td>\n",
       "      <td>6.30</td>\n",
       "      <td>10.880</td>\n",
       "    </tr>\n",
       "    <tr>\n",
       "      <th>4</th>\n",
       "      <td>N1</td>\n",
       "      <td>N1_LRP010c</td>\n",
       "      <td>bridge</td>\n",
       "      <td>A</td>\n",
       "      <td>ADUPUR CULVERT</td>\n",
       "      <td>23.694302</td>\n",
       "      <td>90.537707</td>\n",
       "      <td>6.30</td>\n",
       "      <td>10.897</td>\n",
       "    </tr>\n",
       "  </tbody>\n",
       "</table>\n",
       "</div>"
      ],
      "text/plain": [
       "  road          id model_type condition               name        lat  \\\n",
       "0   N1  N1_LRP001a     bridge         A                  .  23.698739   \n",
       "1   N1  N1_LRP004b     bridge         A                  .  23.694664   \n",
       "2   N1  N1_LRP008b     bridge         A  Kanch pur Bridge.  23.705060   \n",
       "3   N1  N1_LRP010b     bridge         A   NOYAPARA CULVERT  23.694391   \n",
       "4   N1  N1_LRP010c     bridge         A     ADUPUR CULVERT  23.694302   \n",
       "\n",
       "         lon  length  chainage  \n",
       "0  90.458861   11.30     1.800  \n",
       "1  90.487775    6.60     4.925  \n",
       "2  90.523214  394.23     8.976  \n",
       "3  90.537574    6.30    10.880  \n",
       "4  90.537707    6.30    10.897  "
      ]
     },
     "execution_count": 47,
     "metadata": {},
     "output_type": "execute_result"
    }
   ],
   "source": [
    "bridges_to_be_merged = bridges.sort_values(by = [\"road\", \"chainage\"], ascending = True)\n",
    "bridges_to_be_merged.head()"
   ]
  },
  {
   "cell_type": "markdown",
   "metadata": {},
   "source": [
    "## Getting the data together"
   ]
  },
  {
   "cell_type": "markdown",
   "metadata": {
    "jp-MarkdownHeadingCollapsed": true,
    "tags": []
   },
   "source": [
    "Now, we want to merge \n",
    "* the starting and ending points of the roads, \n",
    "* intersections *(intersection_to_be_merged)* and \n",
    "* bridges *(bridges_to_be_merged)*."
   ]
  },
  {
   "cell_type": "code",
   "execution_count": 48,
   "metadata": {},
   "outputs": [
    {
     "data": {
      "text/html": [
       "<div>\n",
       "<style scoped>\n",
       "    .dataframe tbody tr th:only-of-type {\n",
       "        vertical-align: middle;\n",
       "    }\n",
       "\n",
       "    .dataframe tbody tr th {\n",
       "        vertical-align: top;\n",
       "    }\n",
       "\n",
       "    .dataframe thead th {\n",
       "        text-align: right;\n",
       "    }\n",
       "</style>\n",
       "<table border=\"1\" class=\"dataframe\">\n",
       "  <thead>\n",
       "    <tr style=\"text-align: right;\">\n",
       "      <th></th>\n",
       "      <th>road</th>\n",
       "      <th>chainage</th>\n",
       "      <th>lrp</th>\n",
       "      <th>lat</th>\n",
       "      <th>lon</th>\n",
       "      <th>gap</th>\n",
       "      <th>type</th>\n",
       "      <th>name</th>\n",
       "      <th>road_lrp</th>\n",
       "      <th>coordinates</th>\n",
       "    </tr>\n",
       "  </thead>\n",
       "  <tbody>\n",
       "    <tr>\n",
       "      <th>0</th>\n",
       "      <td>N1</td>\n",
       "      <td>0.000</td>\n",
       "      <td>LRPS</td>\n",
       "      <td>23.706028</td>\n",
       "      <td>90.443333</td>\n",
       "      <td>NaN</td>\n",
       "      <td>Others</td>\n",
       "      <td>Start of Road  after Jatrabari Flyover infront...</td>\n",
       "      <td>N1_LRPS</td>\n",
       "      <td>(23.7060278, 90.443333)</td>\n",
       "    </tr>\n",
       "    <tr>\n",
       "      <th>1</th>\n",
       "      <td>N1</td>\n",
       "      <td>0.814</td>\n",
       "      <td>LRPSa</td>\n",
       "      <td>23.702917</td>\n",
       "      <td>90.450417</td>\n",
       "      <td>NaN</td>\n",
       "      <td>Culvert</td>\n",
       "      <td>Box Culvert</td>\n",
       "      <td>N1_LRPSa</td>\n",
       "      <td>(23.7029167, 90.4504167)</td>\n",
       "    </tr>\n",
       "    <tr>\n",
       "      <th>2</th>\n",
       "      <td>N1</td>\n",
       "      <td>0.822</td>\n",
       "      <td>LRPSb</td>\n",
       "      <td>23.702778</td>\n",
       "      <td>90.450472</td>\n",
       "      <td>NaN</td>\n",
       "      <td>CrossRoad</td>\n",
       "      <td>Intersection with Z1101</td>\n",
       "      <td>N1_LRPSb</td>\n",
       "      <td>(23.7027778, 90.4504722)</td>\n",
       "    </tr>\n",
       "    <tr>\n",
       "      <th>3</th>\n",
       "      <td>N1</td>\n",
       "      <td>1.000</td>\n",
       "      <td>LRP001</td>\n",
       "      <td>23.702139</td>\n",
       "      <td>90.451972</td>\n",
       "      <td>NaN</td>\n",
       "      <td>KmPost</td>\n",
       "      <td>Km post missing</td>\n",
       "      <td>N1_LRP001</td>\n",
       "      <td>(23.7021389, 90.4519722)</td>\n",
       "    </tr>\n",
       "    <tr>\n",
       "      <th>4</th>\n",
       "      <td>N1</td>\n",
       "      <td>2.000</td>\n",
       "      <td>LRP002</td>\n",
       "      <td>23.697889</td>\n",
       "      <td>90.460583</td>\n",
       "      <td>NaN</td>\n",
       "      <td>KmPost</td>\n",
       "      <td>Km post missing</td>\n",
       "      <td>N1_LRP002</td>\n",
       "      <td>(23.6978886, 90.4605833)</td>\n",
       "    </tr>\n",
       "  </tbody>\n",
       "</table>\n",
       "</div>"
      ],
      "text/plain": [
       "  road  chainage     lrp        lat        lon  gap       type  \\\n",
       "0   N1     0.000    LRPS  23.706028  90.443333  NaN     Others   \n",
       "1   N1     0.814   LRPSa  23.702917  90.450417  NaN    Culvert   \n",
       "2   N1     0.822   LRPSb  23.702778  90.450472  NaN  CrossRoad   \n",
       "3   N1     1.000  LRP001  23.702139  90.451972  NaN     KmPost   \n",
       "4   N1     2.000  LRP002  23.697889  90.460583  NaN     KmPost   \n",
       "\n",
       "                                                name   road_lrp  \\\n",
       "0  Start of Road  after Jatrabari Flyover infront...    N1_LRPS   \n",
       "1                                        Box Culvert   N1_LRPSa   \n",
       "2                            Intersection with Z1101   N1_LRPSb   \n",
       "3                                    Km post missing  N1_LRP001   \n",
       "4                                    Km post missing  N1_LRP002   \n",
       "\n",
       "                coordinates  \n",
       "0   (23.7060278, 90.443333)  \n",
       "1  (23.7029167, 90.4504167)  \n",
       "2  (23.7027778, 90.4504722)  \n",
       "3  (23.7021389, 90.4519722)  \n",
       "4  (23.6978886, 90.4605833)  "
      ]
     },
     "execution_count": 48,
     "metadata": {},
     "output_type": "execute_result"
    }
   ],
   "source": [
    "roads = roads.loc[roads[\"road\"].isin(list_to_keep)]\n",
    "roads.head()"
   ]
  },
  {
   "cell_type": "code",
   "execution_count": 49,
   "metadata": {},
   "outputs": [],
   "source": [
    "final_columns = ['road','chainage','lrp','lat','lon','condition','model_type','name','id','coordinates']\n",
    "roads = roads.set_axis(final_columns, axis=1)\n",
    "roads['length'] = 0\n",
    "roads['condition'] = np.NaN"
   ]
  },
  {
   "cell_type": "code",
   "execution_count": 50,
   "metadata": {},
   "outputs": [
    {
     "data": {
      "text/html": [
       "<div>\n",
       "<style scoped>\n",
       "    .dataframe tbody tr th:only-of-type {\n",
       "        vertical-align: middle;\n",
       "    }\n",
       "\n",
       "    .dataframe tbody tr th {\n",
       "        vertical-align: top;\n",
       "    }\n",
       "\n",
       "    .dataframe thead th {\n",
       "        text-align: right;\n",
       "    }\n",
       "</style>\n",
       "<table border=\"1\" class=\"dataframe\">\n",
       "  <thead>\n",
       "    <tr style=\"text-align: right;\">\n",
       "      <th></th>\n",
       "      <th>road</th>\n",
       "      <th>id</th>\n",
       "      <th>model_type</th>\n",
       "      <th>condition</th>\n",
       "      <th>name</th>\n",
       "      <th>lat</th>\n",
       "      <th>lon</th>\n",
       "      <th>length</th>\n",
       "      <th>chainage</th>\n",
       "    </tr>\n",
       "  </thead>\n",
       "  <tbody>\n",
       "    <tr>\n",
       "      <th>0</th>\n",
       "      <td>N1</td>\n",
       "      <td>N1_LRPS</td>\n",
       "      <td>Others</td>\n",
       "      <td>NaN</td>\n",
       "      <td>Start of Road  after Jatrabari Flyover infront...</td>\n",
       "      <td>23.706028</td>\n",
       "      <td>90.443333</td>\n",
       "      <td>0</td>\n",
       "      <td>0.000</td>\n",
       "    </tr>\n",
       "    <tr>\n",
       "      <th>1</th>\n",
       "      <td>N1</td>\n",
       "      <td>N1_LRPSa</td>\n",
       "      <td>Culvert</td>\n",
       "      <td>NaN</td>\n",
       "      <td>Box Culvert</td>\n",
       "      <td>23.702917</td>\n",
       "      <td>90.450417</td>\n",
       "      <td>0</td>\n",
       "      <td>0.814</td>\n",
       "    </tr>\n",
       "    <tr>\n",
       "      <th>2</th>\n",
       "      <td>N1</td>\n",
       "      <td>N1_LRPSb</td>\n",
       "      <td>CrossRoad</td>\n",
       "      <td>NaN</td>\n",
       "      <td>Intersection with Z1101</td>\n",
       "      <td>23.702778</td>\n",
       "      <td>90.450472</td>\n",
       "      <td>0</td>\n",
       "      <td>0.822</td>\n",
       "    </tr>\n",
       "    <tr>\n",
       "      <th>3</th>\n",
       "      <td>N1</td>\n",
       "      <td>N1_LRP001</td>\n",
       "      <td>KmPost</td>\n",
       "      <td>NaN</td>\n",
       "      <td>Km post missing</td>\n",
       "      <td>23.702139</td>\n",
       "      <td>90.451972</td>\n",
       "      <td>0</td>\n",
       "      <td>1.000</td>\n",
       "    </tr>\n",
       "    <tr>\n",
       "      <th>4</th>\n",
       "      <td>N1</td>\n",
       "      <td>N1_LRP002</td>\n",
       "      <td>KmPost</td>\n",
       "      <td>NaN</td>\n",
       "      <td>Km post missing</td>\n",
       "      <td>23.697889</td>\n",
       "      <td>90.460583</td>\n",
       "      <td>0</td>\n",
       "      <td>2.000</td>\n",
       "    </tr>\n",
       "  </tbody>\n",
       "</table>\n",
       "</div>"
      ],
      "text/plain": [
       "  road         id model_type  condition  \\\n",
       "0   N1    N1_LRPS     Others        NaN   \n",
       "1   N1   N1_LRPSa    Culvert        NaN   \n",
       "2   N1   N1_LRPSb  CrossRoad        NaN   \n",
       "3   N1  N1_LRP001     KmPost        NaN   \n",
       "4   N1  N1_LRP002     KmPost        NaN   \n",
       "\n",
       "                                                name        lat        lon  \\\n",
       "0  Start of Road  after Jatrabari Flyover infront...  23.706028  90.443333   \n",
       "1                                        Box Culvert  23.702917  90.450417   \n",
       "2                            Intersection with Z1101  23.702778  90.450472   \n",
       "3                                    Km post missing  23.702139  90.451972   \n",
       "4                                    Km post missing  23.697889  90.460583   \n",
       "\n",
       "   length  chainage  \n",
       "0       0     0.000  \n",
       "1       0     0.814  \n",
       "2       0     0.822  \n",
       "3       0     1.000  \n",
       "4       0     2.000  "
      ]
     },
     "execution_count": 50,
     "metadata": {},
     "output_type": "execute_result"
    }
   ],
   "source": [
    "columns_right_order = ['road','id','model_type','condition','name','lat','lon','length','chainage']\n",
    "roads = roads.loc[:,columns_right_order]\n",
    "roads.head()"
   ]
  },
  {
   "cell_type": "code",
   "execution_count": 51,
   "metadata": {},
   "outputs": [],
   "source": [
    "# identify starting points\n",
    "roads_start = roads.copy()\n",
    "roads_start = roads_start.drop_duplicates(subset=['road'], keep='first')\n",
    "roads_start['model_type'] = \"sourcesink\"\n",
    "\n",
    "# identift ending points\n",
    "roads_end = roads.copy()\n",
    "roads_end = roads_end.drop_duplicates(subset=['road'], keep='last')\n",
    "roads_end['model_type'] = \"sourcesink\""
   ]
  },
  {
   "cell_type": "code",
   "execution_count": 52,
   "metadata": {},
   "outputs": [
    {
     "data": {
      "text/plain": [
       "0         N1_LRPS\n",
       "1356    N102_LRPS\n",
       "1587    N104_LRPS\n",
       "1710    N105_LRPS\n",
       "2346      N2_LRPS\n",
       "3237    N204_LRPS\n",
       "3346    N207_LRPS\n",
       "3512    N208_LRPS\n",
       "Name: id, dtype: object"
      ]
     },
     "execution_count": 52,
     "metadata": {},
     "output_type": "execute_result"
    }
   ],
   "source": [
    "roads_start.id"
   ]
  },
  {
   "cell_type": "code",
   "execution_count": 53,
   "metadata": {},
   "outputs": [
    {
     "data": {
      "text/plain": [
       "1338        N1_LRPE\n",
       "1574      N102_LRPE\n",
       "1709      N104_LRPE\n",
       "1826    N105_LRP048\n",
       "3231        N2_LRPE\n",
       "3329      N204_LRPE\n",
       "3511      N207_LRPE\n",
       "3688      N208_LRPE\n",
       "Name: id, dtype: object"
      ]
     },
     "execution_count": 53,
     "metadata": {},
     "output_type": "execute_result"
    }
   ],
   "source": [
    "roads_end.id"
   ]
  },
  {
   "cell_type": "code",
   "execution_count": 54,
   "metadata": {},
   "outputs": [
    {
     "data": {
      "text/html": [
       "<div>\n",
       "<style scoped>\n",
       "    .dataframe tbody tr th:only-of-type {\n",
       "        vertical-align: middle;\n",
       "    }\n",
       "\n",
       "    .dataframe tbody tr th {\n",
       "        vertical-align: top;\n",
       "    }\n",
       "\n",
       "    .dataframe thead th {\n",
       "        text-align: right;\n",
       "    }\n",
       "</style>\n",
       "<table border=\"1\" class=\"dataframe\">\n",
       "  <thead>\n",
       "    <tr style=\"text-align: right;\">\n",
       "      <th></th>\n",
       "      <th>road</th>\n",
       "      <th>id</th>\n",
       "      <th>model_type</th>\n",
       "      <th>condition</th>\n",
       "      <th>name</th>\n",
       "      <th>lat</th>\n",
       "      <th>lon</th>\n",
       "      <th>length</th>\n",
       "      <th>chainage</th>\n",
       "    </tr>\n",
       "  </thead>\n",
       "  <tbody>\n",
       "    <tr>\n",
       "      <th>0</th>\n",
       "      <td>N1</td>\n",
       "      <td>N1_LRPS</td>\n",
       "      <td>sourcesink</td>\n",
       "      <td>NaN</td>\n",
       "      <td>Start of Road  after Jatrabari Flyover infront...</td>\n",
       "      <td>23.706028</td>\n",
       "      <td>90.443333</td>\n",
       "      <td>0</td>\n",
       "      <td>0.000</td>\n",
       "    </tr>\n",
       "    <tr>\n",
       "      <th>1</th>\n",
       "      <td>N1</td>\n",
       "      <td>N1_LRP001a</td>\n",
       "      <td>bridge</td>\n",
       "      <td>A</td>\n",
       "      <td>.</td>\n",
       "      <td>23.698739</td>\n",
       "      <td>90.458861</td>\n",
       "      <td>11.3</td>\n",
       "      <td>1.800</td>\n",
       "    </tr>\n",
       "    <tr>\n",
       "      <th>2</th>\n",
       "      <td>N1</td>\n",
       "      <td>N1_LRP004b</td>\n",
       "      <td>bridge</td>\n",
       "      <td>A</td>\n",
       "      <td>.</td>\n",
       "      <td>23.694664</td>\n",
       "      <td>90.487775</td>\n",
       "      <td>6.6</td>\n",
       "      <td>4.925</td>\n",
       "    </tr>\n",
       "    <tr>\n",
       "      <th>3</th>\n",
       "      <td>N1</td>\n",
       "      <td>N1_LRP009a-N2_LRPS</td>\n",
       "      <td>intersection</td>\n",
       "      <td>NaN</td>\n",
       "      <td></td>\n",
       "      <td>23.706000</td>\n",
       "      <td>90.521485</td>\n",
       "      <td></td>\n",
       "      <td>8.763</td>\n",
       "    </tr>\n",
       "    <tr>\n",
       "      <th>4</th>\n",
       "      <td>N1</td>\n",
       "      <td>N1_LRP008b</td>\n",
       "      <td>bridge</td>\n",
       "      <td>A</td>\n",
       "      <td>Kanch pur Bridge.</td>\n",
       "      <td>23.705060</td>\n",
       "      <td>90.523214</td>\n",
       "      <td>394.23</td>\n",
       "      <td>8.976</td>\n",
       "    </tr>\n",
       "  </tbody>\n",
       "</table>\n",
       "</div>"
      ],
      "text/plain": [
       "  road                  id    model_type condition  \\\n",
       "0   N1             N1_LRPS    sourcesink       NaN   \n",
       "1   N1          N1_LRP001a        bridge         A   \n",
       "2   N1          N1_LRP004b        bridge         A   \n",
       "3   N1  N1_LRP009a-N2_LRPS  intersection       NaN   \n",
       "4   N1          N1_LRP008b        bridge         A   \n",
       "\n",
       "                                                name        lat        lon  \\\n",
       "0  Start of Road  after Jatrabari Flyover infront...  23.706028  90.443333   \n",
       "1                                                  .  23.698739  90.458861   \n",
       "2                                                  .  23.694664  90.487775   \n",
       "3                                                     23.706000  90.521485   \n",
       "4                                  Kanch pur Bridge.  23.705060  90.523214   \n",
       "\n",
       "   length  chainage  \n",
       "0       0     0.000  \n",
       "1    11.3     1.800  \n",
       "2     6.6     4.925  \n",
       "3             8.763  \n",
       "4  394.23     8.976  "
      ]
     },
     "execution_count": 54,
     "metadata": {},
     "output_type": "execute_result"
    }
   ],
   "source": [
    "merged_data = roads_start.append([intersection_to_be_merged, bridges_to_be_merged, roads_end])\n",
    "merged_data = merged_data.sort_values(by = [\"road\", \"chainage\"], ascending = True)\n",
    "merged_data = merged_data.reset_index(drop = True)\n",
    "merged_data.head()"
   ]
  },
  {
   "cell_type": "code",
   "execution_count": 55,
   "metadata": {},
   "outputs": [
    {
     "data": {
      "text/plain": [
       "array(['sourcesink', 'bridge', 'intersection'], dtype=object)"
      ]
     },
     "execution_count": 55,
     "metadata": {},
     "output_type": "execute_result"
    }
   ],
   "source": [
    "merged_data.model_type.unique()"
   ]
  },
  {
   "cell_type": "markdown",
   "metadata": {},
   "source": [
    "## Calculating Links"
   ]
  },
  {
   "cell_type": "code",
   "execution_count": 56,
   "metadata": {},
   "outputs": [],
   "source": [
    "links = pd.DataFrame()\n",
    "\n",
    "for rowno, row in merged_data.iterrows():\n",
    "    # we shouldn't calculate this for the first row\n",
    "    if rowno != len(merged_data) - 1:\n",
    "        next_road = merged_data.road[rowno + 1]\n",
    "        # we shouldn't calculate this if the this is the last point of the road\n",
    "        if next_road == row['road']:\n",
    "            next_lat = merged_data.lat[rowno + 1]\n",
    "            next_lon = merged_data.lon[rowno + 1]\n",
    "            next_chainage = merged_data.chainage[rowno + 1]\n",
    "            links = links.append([[row['road'], row['road'] + \"_link\" + str(rowno), \"link\", np.NaN, \"\",\n",
    "                          (row['lat'] + next_lat) / 2, (row['lon'] + next_lon) / 2,\n",
    "                          (next_chainage - row['chainage']) * 1000, row['chainage']]])\n"
   ]
  },
  {
   "cell_type": "code",
   "execution_count": 57,
   "metadata": {},
   "outputs": [
    {
     "data": {
      "text/html": [
       "<div>\n",
       "<style scoped>\n",
       "    .dataframe tbody tr th:only-of-type {\n",
       "        vertical-align: middle;\n",
       "    }\n",
       "\n",
       "    .dataframe tbody tr th {\n",
       "        vertical-align: top;\n",
       "    }\n",
       "\n",
       "    .dataframe thead th {\n",
       "        text-align: right;\n",
       "    }\n",
       "</style>\n",
       "<table border=\"1\" class=\"dataframe\">\n",
       "  <thead>\n",
       "    <tr style=\"text-align: right;\">\n",
       "      <th></th>\n",
       "      <th>road</th>\n",
       "      <th>id</th>\n",
       "      <th>model_type</th>\n",
       "      <th>condition</th>\n",
       "      <th>name</th>\n",
       "      <th>lat</th>\n",
       "      <th>lon</th>\n",
       "      <th>length</th>\n",
       "      <th>chainage</th>\n",
       "    </tr>\n",
       "  </thead>\n",
       "  <tbody>\n",
       "    <tr>\n",
       "      <th>0</th>\n",
       "      <td>N1</td>\n",
       "      <td>N1_link0</td>\n",
       "      <td>link</td>\n",
       "      <td>NaN</td>\n",
       "      <td></td>\n",
       "      <td>23.702383</td>\n",
       "      <td>90.451097</td>\n",
       "      <td>1800.0</td>\n",
       "      <td>0.000</td>\n",
       "    </tr>\n",
       "    <tr>\n",
       "      <th>0</th>\n",
       "      <td>N1</td>\n",
       "      <td>N1_link1</td>\n",
       "      <td>link</td>\n",
       "      <td>NaN</td>\n",
       "      <td></td>\n",
       "      <td>23.696701</td>\n",
       "      <td>90.473318</td>\n",
       "      <td>3125.0</td>\n",
       "      <td>1.800</td>\n",
       "    </tr>\n",
       "    <tr>\n",
       "      <th>0</th>\n",
       "      <td>N1</td>\n",
       "      <td>N1_link2</td>\n",
       "      <td>link</td>\n",
       "      <td>NaN</td>\n",
       "      <td></td>\n",
       "      <td>23.700332</td>\n",
       "      <td>90.504630</td>\n",
       "      <td>3838.0</td>\n",
       "      <td>4.925</td>\n",
       "    </tr>\n",
       "    <tr>\n",
       "      <th>0</th>\n",
       "      <td>N1</td>\n",
       "      <td>N1_link3</td>\n",
       "      <td>link</td>\n",
       "      <td>NaN</td>\n",
       "      <td></td>\n",
       "      <td>23.705530</td>\n",
       "      <td>90.522350</td>\n",
       "      <td>213.0</td>\n",
       "      <td>8.763</td>\n",
       "    </tr>\n",
       "    <tr>\n",
       "      <th>0</th>\n",
       "      <td>N1</td>\n",
       "      <td>N1_link4</td>\n",
       "      <td>link</td>\n",
       "      <td>NaN</td>\n",
       "      <td></td>\n",
       "      <td>23.699725</td>\n",
       "      <td>90.530394</td>\n",
       "      <td>1904.0</td>\n",
       "      <td>8.976</td>\n",
       "    </tr>\n",
       "  </tbody>\n",
       "</table>\n",
       "</div>"
      ],
      "text/plain": [
       "  road        id model_type  condition name        lat        lon  length  \\\n",
       "0   N1  N1_link0       link        NaN       23.702383  90.451097  1800.0   \n",
       "0   N1  N1_link1       link        NaN       23.696701  90.473318  3125.0   \n",
       "0   N1  N1_link2       link        NaN       23.700332  90.504630  3838.0   \n",
       "0   N1  N1_link3       link        NaN       23.705530  90.522350   213.0   \n",
       "0   N1  N1_link4       link        NaN       23.699725  90.530394  1904.0   \n",
       "\n",
       "   chainage  \n",
       "0     0.000  \n",
       "0     1.800  \n",
       "0     4.925  \n",
       "0     8.763  \n",
       "0     8.976  "
      ]
     },
     "execution_count": 57,
     "metadata": {},
     "output_type": "execute_result"
    }
   ],
   "source": [
    "links_to_be_merged = links.set_axis(columns_right_order, axis=1)\n",
    "links_to_be_merged.head()"
   ]
  },
  {
   "cell_type": "code",
   "execution_count": 58,
   "metadata": {},
   "outputs": [
    {
     "data": {
      "text/html": [
       "<div>\n",
       "<style scoped>\n",
       "    .dataframe tbody tr th:only-of-type {\n",
       "        vertical-align: middle;\n",
       "    }\n",
       "\n",
       "    .dataframe tbody tr th {\n",
       "        vertical-align: top;\n",
       "    }\n",
       "\n",
       "    .dataframe thead th {\n",
       "        text-align: right;\n",
       "    }\n",
       "</style>\n",
       "<table border=\"1\" class=\"dataframe\">\n",
       "  <thead>\n",
       "    <tr style=\"text-align: right;\">\n",
       "      <th></th>\n",
       "      <th>road</th>\n",
       "      <th>id</th>\n",
       "      <th>model_type</th>\n",
       "      <th>condition</th>\n",
       "      <th>name</th>\n",
       "      <th>lat</th>\n",
       "      <th>lon</th>\n",
       "      <th>length</th>\n",
       "      <th>chainage</th>\n",
       "    </tr>\n",
       "  </thead>\n",
       "  <tbody>\n",
       "    <tr>\n",
       "      <th>0</th>\n",
       "      <td>N1</td>\n",
       "      <td>N1_LRPS</td>\n",
       "      <td>sourcesink</td>\n",
       "      <td>NaN</td>\n",
       "      <td>Start of Road  after Jatrabari Flyover infront...</td>\n",
       "      <td>23.706028</td>\n",
       "      <td>90.443333</td>\n",
       "      <td>0</td>\n",
       "      <td>0.000</td>\n",
       "    </tr>\n",
       "    <tr>\n",
       "      <th>1</th>\n",
       "      <td>N1</td>\n",
       "      <td>N1_link0</td>\n",
       "      <td>link</td>\n",
       "      <td>NaN</td>\n",
       "      <td></td>\n",
       "      <td>23.702383</td>\n",
       "      <td>90.451097</td>\n",
       "      <td>1800.0</td>\n",
       "      <td>0.000</td>\n",
       "    </tr>\n",
       "    <tr>\n",
       "      <th>2</th>\n",
       "      <td>N1</td>\n",
       "      <td>N1_LRP001a</td>\n",
       "      <td>bridge</td>\n",
       "      <td>A</td>\n",
       "      <td>.</td>\n",
       "      <td>23.698739</td>\n",
       "      <td>90.458861</td>\n",
       "      <td>11.3</td>\n",
       "      <td>1.800</td>\n",
       "    </tr>\n",
       "    <tr>\n",
       "      <th>3</th>\n",
       "      <td>N1</td>\n",
       "      <td>N1_link1</td>\n",
       "      <td>link</td>\n",
       "      <td>NaN</td>\n",
       "      <td></td>\n",
       "      <td>23.696701</td>\n",
       "      <td>90.473318</td>\n",
       "      <td>3125.0</td>\n",
       "      <td>1.800</td>\n",
       "    </tr>\n",
       "    <tr>\n",
       "      <th>4</th>\n",
       "      <td>N1</td>\n",
       "      <td>N1_LRP004b</td>\n",
       "      <td>bridge</td>\n",
       "      <td>A</td>\n",
       "      <td>.</td>\n",
       "      <td>23.694664</td>\n",
       "      <td>90.487775</td>\n",
       "      <td>6.6</td>\n",
       "      <td>4.925</td>\n",
       "    </tr>\n",
       "  </tbody>\n",
       "</table>\n",
       "</div>"
      ],
      "text/plain": [
       "  road          id  model_type condition  \\\n",
       "0   N1     N1_LRPS  sourcesink       NaN   \n",
       "1   N1    N1_link0        link       NaN   \n",
       "2   N1  N1_LRP001a      bridge         A   \n",
       "3   N1    N1_link1        link       NaN   \n",
       "4   N1  N1_LRP004b      bridge         A   \n",
       "\n",
       "                                                name        lat        lon  \\\n",
       "0  Start of Road  after Jatrabari Flyover infront...  23.706028  90.443333   \n",
       "1                                                     23.702383  90.451097   \n",
       "2                                                  .  23.698739  90.458861   \n",
       "3                                                     23.696701  90.473318   \n",
       "4                                                  .  23.694664  90.487775   \n",
       "\n",
       "   length  chainage  \n",
       "0       0     0.000  \n",
       "1  1800.0     0.000  \n",
       "2    11.3     1.800  \n",
       "3  3125.0     1.800  \n",
       "4     6.6     4.925  "
      ]
     },
     "execution_count": 58,
     "metadata": {},
     "output_type": "execute_result"
    }
   ],
   "source": [
    "merged_data = merged_data.append(links_to_be_merged)\n",
    "merged_data = merged_data.sort_values(by = [\"road\", \"chainage\"], ascending = True)\n",
    "merged_data = merged_data.reset_index(drop = True)\n",
    "merged_data.head()"
   ]
  },
  {
   "cell_type": "code",
   "execution_count": null,
   "metadata": {},
   "outputs": [],
   "source": [
    "merged_data = merged_data.drop(columns = \"chainage\")"
   ]
  },
  {
   "cell_type": "code",
   "execution_count": 61,
   "metadata": {},
   "outputs": [
    {
     "data": {
      "text/html": [
       "<div>\n",
       "<style scoped>\n",
       "    .dataframe tbody tr th:only-of-type {\n",
       "        vertical-align: middle;\n",
       "    }\n",
       "\n",
       "    .dataframe tbody tr th {\n",
       "        vertical-align: top;\n",
       "    }\n",
       "\n",
       "    .dataframe thead th {\n",
       "        text-align: right;\n",
       "    }\n",
       "</style>\n",
       "<table border=\"1\" class=\"dataframe\">\n",
       "  <thead>\n",
       "    <tr style=\"text-align: right;\">\n",
       "      <th></th>\n",
       "      <th>road</th>\n",
       "      <th>id</th>\n",
       "      <th>model_type</th>\n",
       "      <th>condition</th>\n",
       "      <th>name</th>\n",
       "      <th>lat</th>\n",
       "      <th>lon</th>\n",
       "      <th>length</th>\n",
       "    </tr>\n",
       "  </thead>\n",
       "  <tbody>\n",
       "    <tr>\n",
       "      <th>0</th>\n",
       "      <td>N1</td>\n",
       "      <td>N1_LRPS</td>\n",
       "      <td>sourcesink</td>\n",
       "      <td>NaN</td>\n",
       "      <td>Start of Road  after Jatrabari Flyover infront...</td>\n",
       "      <td>23.706028</td>\n",
       "      <td>90.443333</td>\n",
       "      <td>0</td>\n",
       "    </tr>\n",
       "    <tr>\n",
       "      <th>1</th>\n",
       "      <td>N1</td>\n",
       "      <td>N1_link0</td>\n",
       "      <td>link</td>\n",
       "      <td>NaN</td>\n",
       "      <td></td>\n",
       "      <td>23.702383</td>\n",
       "      <td>90.451097</td>\n",
       "      <td>1800.0</td>\n",
       "    </tr>\n",
       "    <tr>\n",
       "      <th>2</th>\n",
       "      <td>N1</td>\n",
       "      <td>N1_LRP001a</td>\n",
       "      <td>bridge</td>\n",
       "      <td>A</td>\n",
       "      <td>.</td>\n",
       "      <td>23.698739</td>\n",
       "      <td>90.458861</td>\n",
       "      <td>11.3</td>\n",
       "    </tr>\n",
       "    <tr>\n",
       "      <th>3</th>\n",
       "      <td>N1</td>\n",
       "      <td>N1_link1</td>\n",
       "      <td>link</td>\n",
       "      <td>NaN</td>\n",
       "      <td></td>\n",
       "      <td>23.696701</td>\n",
       "      <td>90.473318</td>\n",
       "      <td>3125.0</td>\n",
       "    </tr>\n",
       "    <tr>\n",
       "      <th>4</th>\n",
       "      <td>N1</td>\n",
       "      <td>N1_LRP004b</td>\n",
       "      <td>bridge</td>\n",
       "      <td>A</td>\n",
       "      <td>.</td>\n",
       "      <td>23.694664</td>\n",
       "      <td>90.487775</td>\n",
       "      <td>6.6</td>\n",
       "    </tr>\n",
       "  </tbody>\n",
       "</table>\n",
       "</div>"
      ],
      "text/plain": [
       "  road          id  model_type condition  \\\n",
       "0   N1     N1_LRPS  sourcesink       NaN   \n",
       "1   N1    N1_link0        link       NaN   \n",
       "2   N1  N1_LRP001a      bridge         A   \n",
       "3   N1    N1_link1        link       NaN   \n",
       "4   N1  N1_LRP004b      bridge         A   \n",
       "\n",
       "                                                name        lat        lon  \\\n",
       "0  Start of Road  after Jatrabari Flyover infront...  23.706028  90.443333   \n",
       "1                                                     23.702383  90.451097   \n",
       "2                                                  .  23.698739  90.458861   \n",
       "3                                                     23.696701  90.473318   \n",
       "4                                                  .  23.694664  90.487775   \n",
       "\n",
       "   length  \n",
       "0       0  \n",
       "1  1800.0  \n",
       "2    11.3  \n",
       "3  3125.0  \n",
       "4     6.6  "
      ]
     },
     "execution_count": 61,
     "metadata": {},
     "output_type": "execute_result"
    }
   ],
   "source": [
    "merged_data.head()"
   ]
  },
  {
   "cell_type": "code",
   "execution_count": 62,
   "metadata": {},
   "outputs": [],
   "source": [
    "merged_data.to_csv('../data/cleaned_roads.csv', index = False)"
   ]
  },
  {
   "cell_type": "code",
   "execution_count": 63,
   "metadata": {},
   "outputs": [
    {
     "name": "stdout",
     "output_type": "stream",
     "text": [
      "Process finished --- 248.35473537445068 seconds ---\n"
     ]
    }
   ],
   "source": [
    "print(\"Process finished --- %s seconds ---\" % (time.time() - start_time))"
   ]
  }
 ],
 "metadata": {
  "interpreter": {
   "hash": "2647ea34e536f865ab67ff9ddee7fd78773d956cec0cab53c79b32cd10da5d83"
  },
  "kernelspec": {
   "display_name": "Python 3 (ipykernel)",
   "language": "python",
   "name": "python3"
  },
  "language_info": {
   "codemirror_mode": {
    "name": "ipython",
    "version": 3
   },
   "file_extension": ".py",
   "mimetype": "text/x-python",
   "name": "python",
   "nbconvert_exporter": "python",
   "pygments_lexer": "ipython3",
   "version": "3.8.12"
  }
 },
 "nbformat": 4,
 "nbformat_minor": 4
}
